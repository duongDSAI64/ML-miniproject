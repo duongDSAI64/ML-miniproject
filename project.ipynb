{
 "cells": [
  {
   "cell_type": "markdown",
   "metadata": {},
   "source": [
    "# data overview"
   ]
  },
  {
   "cell_type": "code",
   "execution_count": 68,
   "metadata": {},
   "outputs": [
    {
     "data": {
      "text/html": [
       "<div>\n",
       "<style scoped>\n",
       "    .dataframe tbody tr th:only-of-type {\n",
       "        vertical-align: middle;\n",
       "    }\n",
       "\n",
       "    .dataframe tbody tr th {\n",
       "        vertical-align: top;\n",
       "    }\n",
       "\n",
       "    .dataframe thead th {\n",
       "        text-align: right;\n",
       "    }\n",
       "</style>\n",
       "<table border=\"1\" class=\"dataframe\">\n",
       "  <thead>\n",
       "    <tr style=\"text-align: right;\">\n",
       "      <th></th>\n",
       "      <th>age</th>\n",
       "      <th>job</th>\n",
       "      <th>marital</th>\n",
       "      <th>education</th>\n",
       "      <th>default</th>\n",
       "      <th>balance</th>\n",
       "      <th>housing</th>\n",
       "      <th>loan</th>\n",
       "      <th>contact</th>\n",
       "      <th>day</th>\n",
       "      <th>month</th>\n",
       "      <th>duration</th>\n",
       "      <th>campaign</th>\n",
       "      <th>pdays</th>\n",
       "      <th>previous</th>\n",
       "      <th>poutcome</th>\n",
       "      <th>y</th>\n",
       "    </tr>\n",
       "  </thead>\n",
       "  <tbody>\n",
       "    <tr>\n",
       "      <th>0</th>\n",
       "      <td>58</td>\n",
       "      <td>management</td>\n",
       "      <td>married</td>\n",
       "      <td>tertiary</td>\n",
       "      <td>no</td>\n",
       "      <td>2143</td>\n",
       "      <td>yes</td>\n",
       "      <td>no</td>\n",
       "      <td>unknown</td>\n",
       "      <td>5</td>\n",
       "      <td>may</td>\n",
       "      <td>261</td>\n",
       "      <td>1</td>\n",
       "      <td>-1</td>\n",
       "      <td>0</td>\n",
       "      <td>unknown</td>\n",
       "      <td>no</td>\n",
       "    </tr>\n",
       "    <tr>\n",
       "      <th>1</th>\n",
       "      <td>44</td>\n",
       "      <td>technician</td>\n",
       "      <td>single</td>\n",
       "      <td>secondary</td>\n",
       "      <td>no</td>\n",
       "      <td>29</td>\n",
       "      <td>yes</td>\n",
       "      <td>no</td>\n",
       "      <td>unknown</td>\n",
       "      <td>5</td>\n",
       "      <td>may</td>\n",
       "      <td>151</td>\n",
       "      <td>1</td>\n",
       "      <td>-1</td>\n",
       "      <td>0</td>\n",
       "      <td>unknown</td>\n",
       "      <td>no</td>\n",
       "    </tr>\n",
       "    <tr>\n",
       "      <th>2</th>\n",
       "      <td>33</td>\n",
       "      <td>entrepreneur</td>\n",
       "      <td>married</td>\n",
       "      <td>secondary</td>\n",
       "      <td>no</td>\n",
       "      <td>2</td>\n",
       "      <td>yes</td>\n",
       "      <td>yes</td>\n",
       "      <td>unknown</td>\n",
       "      <td>5</td>\n",
       "      <td>may</td>\n",
       "      <td>76</td>\n",
       "      <td>1</td>\n",
       "      <td>-1</td>\n",
       "      <td>0</td>\n",
       "      <td>unknown</td>\n",
       "      <td>no</td>\n",
       "    </tr>\n",
       "    <tr>\n",
       "      <th>3</th>\n",
       "      <td>47</td>\n",
       "      <td>blue-collar</td>\n",
       "      <td>married</td>\n",
       "      <td>unknown</td>\n",
       "      <td>no</td>\n",
       "      <td>1506</td>\n",
       "      <td>yes</td>\n",
       "      <td>no</td>\n",
       "      <td>unknown</td>\n",
       "      <td>5</td>\n",
       "      <td>may</td>\n",
       "      <td>92</td>\n",
       "      <td>1</td>\n",
       "      <td>-1</td>\n",
       "      <td>0</td>\n",
       "      <td>unknown</td>\n",
       "      <td>no</td>\n",
       "    </tr>\n",
       "    <tr>\n",
       "      <th>4</th>\n",
       "      <td>33</td>\n",
       "      <td>unknown</td>\n",
       "      <td>single</td>\n",
       "      <td>unknown</td>\n",
       "      <td>no</td>\n",
       "      <td>1</td>\n",
       "      <td>no</td>\n",
       "      <td>no</td>\n",
       "      <td>unknown</td>\n",
       "      <td>5</td>\n",
       "      <td>may</td>\n",
       "      <td>198</td>\n",
       "      <td>1</td>\n",
       "      <td>-1</td>\n",
       "      <td>0</td>\n",
       "      <td>unknown</td>\n",
       "      <td>no</td>\n",
       "    </tr>\n",
       "    <tr>\n",
       "      <th>...</th>\n",
       "      <td>...</td>\n",
       "      <td>...</td>\n",
       "      <td>...</td>\n",
       "      <td>...</td>\n",
       "      <td>...</td>\n",
       "      <td>...</td>\n",
       "      <td>...</td>\n",
       "      <td>...</td>\n",
       "      <td>...</td>\n",
       "      <td>...</td>\n",
       "      <td>...</td>\n",
       "      <td>...</td>\n",
       "      <td>...</td>\n",
       "      <td>...</td>\n",
       "      <td>...</td>\n",
       "      <td>...</td>\n",
       "      <td>...</td>\n",
       "    </tr>\n",
       "    <tr>\n",
       "      <th>45206</th>\n",
       "      <td>51</td>\n",
       "      <td>technician</td>\n",
       "      <td>married</td>\n",
       "      <td>tertiary</td>\n",
       "      <td>no</td>\n",
       "      <td>825</td>\n",
       "      <td>no</td>\n",
       "      <td>no</td>\n",
       "      <td>cellular</td>\n",
       "      <td>17</td>\n",
       "      <td>nov</td>\n",
       "      <td>977</td>\n",
       "      <td>3</td>\n",
       "      <td>-1</td>\n",
       "      <td>0</td>\n",
       "      <td>unknown</td>\n",
       "      <td>yes</td>\n",
       "    </tr>\n",
       "    <tr>\n",
       "      <th>45207</th>\n",
       "      <td>71</td>\n",
       "      <td>retired</td>\n",
       "      <td>divorced</td>\n",
       "      <td>primary</td>\n",
       "      <td>no</td>\n",
       "      <td>1729</td>\n",
       "      <td>no</td>\n",
       "      <td>no</td>\n",
       "      <td>cellular</td>\n",
       "      <td>17</td>\n",
       "      <td>nov</td>\n",
       "      <td>456</td>\n",
       "      <td>2</td>\n",
       "      <td>-1</td>\n",
       "      <td>0</td>\n",
       "      <td>unknown</td>\n",
       "      <td>yes</td>\n",
       "    </tr>\n",
       "    <tr>\n",
       "      <th>45208</th>\n",
       "      <td>72</td>\n",
       "      <td>retired</td>\n",
       "      <td>married</td>\n",
       "      <td>secondary</td>\n",
       "      <td>no</td>\n",
       "      <td>5715</td>\n",
       "      <td>no</td>\n",
       "      <td>no</td>\n",
       "      <td>cellular</td>\n",
       "      <td>17</td>\n",
       "      <td>nov</td>\n",
       "      <td>1127</td>\n",
       "      <td>5</td>\n",
       "      <td>184</td>\n",
       "      <td>3</td>\n",
       "      <td>success</td>\n",
       "      <td>yes</td>\n",
       "    </tr>\n",
       "    <tr>\n",
       "      <th>45209</th>\n",
       "      <td>57</td>\n",
       "      <td>blue-collar</td>\n",
       "      <td>married</td>\n",
       "      <td>secondary</td>\n",
       "      <td>no</td>\n",
       "      <td>668</td>\n",
       "      <td>no</td>\n",
       "      <td>no</td>\n",
       "      <td>telephone</td>\n",
       "      <td>17</td>\n",
       "      <td>nov</td>\n",
       "      <td>508</td>\n",
       "      <td>4</td>\n",
       "      <td>-1</td>\n",
       "      <td>0</td>\n",
       "      <td>unknown</td>\n",
       "      <td>no</td>\n",
       "    </tr>\n",
       "    <tr>\n",
       "      <th>45210</th>\n",
       "      <td>37</td>\n",
       "      <td>entrepreneur</td>\n",
       "      <td>married</td>\n",
       "      <td>secondary</td>\n",
       "      <td>no</td>\n",
       "      <td>2971</td>\n",
       "      <td>no</td>\n",
       "      <td>no</td>\n",
       "      <td>cellular</td>\n",
       "      <td>17</td>\n",
       "      <td>nov</td>\n",
       "      <td>361</td>\n",
       "      <td>2</td>\n",
       "      <td>188</td>\n",
       "      <td>11</td>\n",
       "      <td>other</td>\n",
       "      <td>no</td>\n",
       "    </tr>\n",
       "  </tbody>\n",
       "</table>\n",
       "<p>45211 rows × 17 columns</p>\n",
       "</div>"
      ],
      "text/plain": [
       "       age           job   marital  education default  balance housing loan  \\\n",
       "0       58    management   married   tertiary      no     2143     yes   no   \n",
       "1       44    technician    single  secondary      no       29     yes   no   \n",
       "2       33  entrepreneur   married  secondary      no        2     yes  yes   \n",
       "3       47   blue-collar   married    unknown      no     1506     yes   no   \n",
       "4       33       unknown    single    unknown      no        1      no   no   \n",
       "...    ...           ...       ...        ...     ...      ...     ...  ...   \n",
       "45206   51    technician   married   tertiary      no      825      no   no   \n",
       "45207   71       retired  divorced    primary      no     1729      no   no   \n",
       "45208   72       retired   married  secondary      no     5715      no   no   \n",
       "45209   57   blue-collar   married  secondary      no      668      no   no   \n",
       "45210   37  entrepreneur   married  secondary      no     2971      no   no   \n",
       "\n",
       "         contact  day month  duration  campaign  pdays  previous poutcome    y  \n",
       "0        unknown    5   may       261         1     -1         0  unknown   no  \n",
       "1        unknown    5   may       151         1     -1         0  unknown   no  \n",
       "2        unknown    5   may        76         1     -1         0  unknown   no  \n",
       "3        unknown    5   may        92         1     -1         0  unknown   no  \n",
       "4        unknown    5   may       198         1     -1         0  unknown   no  \n",
       "...          ...  ...   ...       ...       ...    ...       ...      ...  ...  \n",
       "45206   cellular   17   nov       977         3     -1         0  unknown  yes  \n",
       "45207   cellular   17   nov       456         2     -1         0  unknown  yes  \n",
       "45208   cellular   17   nov      1127         5    184         3  success  yes  \n",
       "45209  telephone   17   nov       508         4     -1         0  unknown   no  \n",
       "45210   cellular   17   nov       361         2    188        11    other   no  \n",
       "\n",
       "[45211 rows x 17 columns]"
      ]
     },
     "execution_count": 68,
     "metadata": {},
     "output_type": "execute_result"
    }
   ],
   "source": [
    "import numpy as np\n",
    "import pandas as pd\n",
    "import matplotlib.pyplot as plt\n",
    "import seaborn as sns\n",
    "\n",
    "bank_full_df = pd.read_csv(r\"C:\\Users\\nguye\\git\\ML project\\Original\\ML-miniproject\\bank-full.csv\", encoding = \"Latin-1\")\n",
    "bank_full_df"
   ]
  },
  {
   "cell_type": "code",
   "execution_count": 69,
   "metadata": {
    "scrolled": true
   },
   "outputs": [
    {
     "data": {
      "text/plain": [
       "no     39922\n",
       "yes     5289\n",
       "Name: y, dtype: int64"
      ]
     },
     "execution_count": 69,
     "metadata": {},
     "output_type": "execute_result"
    }
   ],
   "source": [
    "bank_full_df.y.value_counts()"
   ]
  },
  {
   "cell_type": "code",
   "execution_count": 143,
   "metadata": {},
   "outputs": [
    {
     "data": {
      "text/plain": [
       "<matplotlib.axes._subplots.AxesSubplot at 0x235a9c1bcc8>"
      ]
     },
     "execution_count": 143,
     "metadata": {},
     "output_type": "execute_result"
    },
    {
     "data": {
      "image/png": "[encoded data removed]",
      "text/plain": [
       "<Figure size 720x432 with 1 Axes>"
      ]
     },
     "metadata": {},
     "output_type": "display_data"
    }
   ],
   "source": [
    "data = bank_full_df.y.value_counts()\n",
    "data.plot.pie(figsize=(10,6), label = 'result', fontsize = 14, autopct='%1.2f%%', title = 'deposit', explode=[0,0.25])"
   ]
  },
  {
   "cell_type": "markdown",
   "metadata": {},
   "source": [
    ">the class label is highly imbalance, over will balance it by undersampling"
   ]
  },
  {
   "cell_type": "code",
   "execution_count": 71,
   "metadata": {},
   "outputs": [],
   "source": [
    "from sklearn.utils import shuffle"
   ]
  },
  {
   "cell_type": "code",
   "execution_count": 72,
   "metadata": {},
   "outputs": [
    {
     "data": {
      "text/html": [
       "<div>\n",
       "<style scoped>\n",
       "    .dataframe tbody tr th:only-of-type {\n",
       "        vertical-align: middle;\n",
       "    }\n",
       "\n",
       "    .dataframe tbody tr th {\n",
       "        vertical-align: top;\n",
       "    }\n",
       "\n",
       "    .dataframe thead th {\n",
       "        text-align: right;\n",
       "    }\n",
       "</style>\n",
       "<table border=\"1\" class=\"dataframe\">\n",
       "  <thead>\n",
       "    <tr style=\"text-align: right;\">\n",
       "      <th></th>\n",
       "      <th>age</th>\n",
       "      <th>job</th>\n",
       "      <th>marital</th>\n",
       "      <th>education</th>\n",
       "      <th>default</th>\n",
       "      <th>balance</th>\n",
       "      <th>housing</th>\n",
       "      <th>loan</th>\n",
       "      <th>contact</th>\n",
       "      <th>day</th>\n",
       "      <th>month</th>\n",
       "      <th>duration</th>\n",
       "      <th>campaign</th>\n",
       "      <th>pdays</th>\n",
       "      <th>previous</th>\n",
       "      <th>poutcome</th>\n",
       "      <th>y</th>\n",
       "    </tr>\n",
       "  </thead>\n",
       "  <tbody>\n",
       "    <tr>\n",
       "      <th>0</th>\n",
       "      <td>28</td>\n",
       "      <td>technician</td>\n",
       "      <td>single</td>\n",
       "      <td>tertiary</td>\n",
       "      <td>no</td>\n",
       "      <td>426</td>\n",
       "      <td>no</td>\n",
       "      <td>no</td>\n",
       "      <td>cellular</td>\n",
       "      <td>18</td>\n",
       "      <td>may</td>\n",
       "      <td>11</td>\n",
       "      <td>4</td>\n",
       "      <td>355</td>\n",
       "      <td>1</td>\n",
       "      <td>other</td>\n",
       "      <td>no</td>\n",
       "    </tr>\n",
       "    <tr>\n",
       "      <th>1</th>\n",
       "      <td>35</td>\n",
       "      <td>student</td>\n",
       "      <td>single</td>\n",
       "      <td>secondary</td>\n",
       "      <td>no</td>\n",
       "      <td>188</td>\n",
       "      <td>yes</td>\n",
       "      <td>no</td>\n",
       "      <td>cellular</td>\n",
       "      <td>5</td>\n",
       "      <td>may</td>\n",
       "      <td>863</td>\n",
       "      <td>1</td>\n",
       "      <td>78</td>\n",
       "      <td>8</td>\n",
       "      <td>success</td>\n",
       "      <td>yes</td>\n",
       "    </tr>\n",
       "    <tr>\n",
       "      <th>2</th>\n",
       "      <td>53</td>\n",
       "      <td>management</td>\n",
       "      <td>married</td>\n",
       "      <td>tertiary</td>\n",
       "      <td>no</td>\n",
       "      <td>1061</td>\n",
       "      <td>no</td>\n",
       "      <td>no</td>\n",
       "      <td>cellular</td>\n",
       "      <td>8</td>\n",
       "      <td>jun</td>\n",
       "      <td>139</td>\n",
       "      <td>2</td>\n",
       "      <td>-1</td>\n",
       "      <td>0</td>\n",
       "      <td>unknown</td>\n",
       "      <td>no</td>\n",
       "    </tr>\n",
       "    <tr>\n",
       "      <th>3</th>\n",
       "      <td>46</td>\n",
       "      <td>blue-collar</td>\n",
       "      <td>married</td>\n",
       "      <td>primary</td>\n",
       "      <td>no</td>\n",
       "      <td>804</td>\n",
       "      <td>yes</td>\n",
       "      <td>no</td>\n",
       "      <td>cellular</td>\n",
       "      <td>12</td>\n",
       "      <td>may</td>\n",
       "      <td>1063</td>\n",
       "      <td>2</td>\n",
       "      <td>361</td>\n",
       "      <td>1</td>\n",
       "      <td>success</td>\n",
       "      <td>yes</td>\n",
       "    </tr>\n",
       "    <tr>\n",
       "      <th>4</th>\n",
       "      <td>39</td>\n",
       "      <td>housemaid</td>\n",
       "      <td>single</td>\n",
       "      <td>secondary</td>\n",
       "      <td>no</td>\n",
       "      <td>2022</td>\n",
       "      <td>no</td>\n",
       "      <td>no</td>\n",
       "      <td>unknown</td>\n",
       "      <td>6</td>\n",
       "      <td>jun</td>\n",
       "      <td>105</td>\n",
       "      <td>1</td>\n",
       "      <td>-1</td>\n",
       "      <td>0</td>\n",
       "      <td>unknown</td>\n",
       "      <td>no</td>\n",
       "    </tr>\n",
       "  </tbody>\n",
       "</table>\n",
       "</div>"
      ],
      "text/plain": [
       "   age          job  marital  education default  balance housing loan  \\\n",
       "0   28   technician   single   tertiary      no      426      no   no   \n",
       "1   35      student   single  secondary      no      188     yes   no   \n",
       "2   53   management  married   tertiary      no     1061      no   no   \n",
       "3   46  blue-collar  married    primary      no      804     yes   no   \n",
       "4   39    housemaid   single  secondary      no     2022      no   no   \n",
       "\n",
       "    contact  day month  duration  campaign  pdays  previous poutcome    y  \n",
       "0  cellular   18   may        11         4    355         1    other   no  \n",
       "1  cellular    5   may       863         1     78         8  success  yes  \n",
       "2  cellular    8   jun       139         2     -1         0  unknown   no  \n",
       "3  cellular   12   may      1063         2    361         1  success  yes  \n",
       "4   unknown    6   jun       105         1     -1         0  unknown   no  "
      ]
     },
     "execution_count": 72,
     "metadata": {},
     "output_type": "execute_result"
    }
   ],
   "source": [
    "# from domain specific knowledge, we balance data by taking 11162 examples and keep all the 'yes' class label\n",
    "bank_yes = bank_full_df.loc[bank_full_df.y == 'yes']\n",
    "bank_no = bank_full_df.loc[bank_full_df.y == 'no'].sample(n = 11162 - 5289)\n",
    "new_df = shuffle(pd.concat([bank_yes, bank_no])).reset_index(drop = 1)\n",
    "new_df.head()"
   ]
  },
  {
   "cell_type": "code",
   "execution_count": 73,
   "metadata": {
    "scrolled": true
   },
   "outputs": [
    {
     "data": {
      "text/plain": [
       "no     5873\n",
       "yes    5289\n",
       "Name: y, dtype: int64"
      ]
     },
     "execution_count": 73,
     "metadata": {},
     "output_type": "execute_result"
    }
   ],
   "source": [
    "new_df.y.value_counts()"
   ]
  },
  {
   "cell_type": "code",
   "execution_count": 144,
   "metadata": {},
   "outputs": [
    {
     "data": {
      "text/plain": [
       "<matplotlib.axes._subplots.AxesSubplot at 0x235acb7c188>"
      ]
     },
     "execution_count": 144,
     "metadata": {},
     "output_type": "execute_result"
    },
    {
     "data": {
      "image/png": "[encoded data removed]",
      "text/plain": [
       "<Figure size 720x432 with 1 Axes>"
      ]
     },
     "metadata": {},
     "output_type": "display_data"
    }
   ],
   "source": [
    "data = new_df.y.value_counts()\n",
    "data.plot.pie(figsize=(10,6), label = 'result', fontsize = 14, autopct='%1.2f%%', title = 'deposit', explode=[0,0.25])"
   ]
  },
  {
   "cell_type": "code",
   "execution_count": 75,
   "metadata": {},
   "outputs": [
    {
     "name": "stdout",
     "output_type": "stream",
     "text": [
      "<class 'pandas.core.frame.DataFrame'>\n",
      "RangeIndex: 11162 entries, 0 to 11161\n",
      "Data columns (total 17 columns):\n",
      " #   Column     Non-Null Count  Dtype \n",
      "---  ------     --------------  ----- \n",
      " 0   age        11162 non-null  int64 \n",
      " 1   job        11162 non-null  object\n",
      " 2   marital    11162 non-null  object\n",
      " 3   education  11162 non-null  object\n",
      " 4   default    11162 non-null  object\n",
      " 5   balance    11162 non-null  int64 \n",
      " 6   housing    11162 non-null  object\n",
      " 7   loan       11162 non-null  object\n",
      " 8   contact    11162 non-null  object\n",
      " 9   day        11162 non-null  int64 \n",
      " 10  month      11162 non-null  object\n",
      " 11  duration   11162 non-null  int64 \n",
      " 12  campaign   11162 non-null  int64 \n",
      " 13  pdays      11162 non-null  int64 \n",
      " 14  previous   11162 non-null  int64 \n",
      " 15  poutcome   11162 non-null  object\n",
      " 16  y          11162 non-null  object\n",
      "dtypes: int64(7), object(10)\n",
      "memory usage: 1.4+ MB\n"
     ]
    }
   ],
   "source": [
    "new_df.info()"
   ]
  },
  {
   "cell_type": "markdown",
   "metadata": {},
   "source": [
    "# attributes: categorical and numerical overview"
   ]
  },
  {
   "cell_type": "code",
   "execution_count": 76,
   "metadata": {},
   "outputs": [
    {
     "data": {
      "image/png": "[encoded data removed]",
      "text/plain": [
       "<Figure size 1440x1440 with 9 Axes>"
      ]
     },
     "metadata": {
      "needs_background": "light"
     },
     "output_type": "display_data"
    }
   ],
   "source": [
    "# categorical attributes\n",
    "categories = ['job', 'marital','education', 'default', 'housing', 'loan', 'contact', 'month', 'poutcome']\n",
    "fig, ax = plt.subplots(figsize = (20,20), ncols=3, nrows = 3)\n",
    "count =0\n",
    "for col in categories:\n",
    "    g=sns.countplot(x = col, data = new_df, hue = 'y', order = bank_yes[col].value_counts().index, ax = ax[count//3, count%3])\n",
    "    g.set_title(col+' & deposit')\n",
    "    g.set_xlabel(None,fontsize = 9)\n",
    "    if col == 'job':\n",
    "        plt.setp(g.get_xticklabels(), rotation=40)\n",
    "    count+=1"
   ]
  },
  {
   "cell_type": "markdown",
   "metadata": {},
   "source": [
    "> here we see job, education, contact and poutcome have unkown/missing values\n",
    "> with job, education, contact we impute missing values by apply most-frequent strategy\n",
    "> with poutcome since unkown values appears more than 80%, we consider dropping it\n",
    "> other categorical attribute will be convert into numerical by number 1, 2, 3, ..."
   ]
  },
  {
   "cell_type": "code",
   "execution_count": 77,
   "metadata": {},
   "outputs": [
    {
     "data": {
      "text/plain": [
       "array([28, 35, 53, ..., 37, 28, 38], dtype=int64)"
      ]
     },
     "execution_count": 77,
     "metadata": {},
     "output_type": "execute_result"
    }
   ],
   "source": [
    "new_df.age.to_numpy()"
   ]
  },
  {
   "cell_type": "code",
   "execution_count": 78,
   "metadata": {
    "scrolled": true
   },
   "outputs": [
    {
     "name": "stdout",
     "output_type": "stream",
     "text": [
      "age:  128\n",
      "balance:  181\n",
      "day:  0\n",
      "duration:  199\n",
      "previous:  210\n",
      "pdays:  168\n",
      "campaign:  203\n"
     ]
    },
    {
     "data": {
      "text/plain": [
       "585"
      ]
     },
     "execution_count": 78,
     "metadata": {},
     "output_type": "execute_result"
    }
   ],
   "source": [
    "numerical = ['age', 'balance', 'day', 'duration', 'previous', 'pdays', 'campaign']\n",
    "outlier = {}\n",
    "for col in numerical:\n",
    "    outlier[col] = []\n",
    "    data = new_df[col].to_numpy()\n",
    "    mean = new_df[col].mean()\n",
    "    std = new_df[col].std()\n",
    "    count_ouliers = 0\n",
    "    for i in range(len(data)):\n",
    "        z = (data[i]-mean)/std\n",
    "        if z >3 or z<-3:\n",
    "            count_ouliers+=1\n",
    "            outlier[col].append(i)\n",
    "    print(col+': ', count_ouliers)\n",
    "outlier_age = outlier['age']\n",
    "outlier_balance = outlier['balance']\n",
    "outlier_duration = outlier['duration']\n",
    "outlier_previous = outlier['previous']\n",
    "outlier_campaign = outlier['campaign']\n",
    "a=list(set(outlier_balance+outlier_campaign+outlier_previous))\n",
    "len(a)"
   ]
  },
  {
   "cell_type": "code",
   "execution_count": 79,
   "metadata": {},
   "outputs": [
    {
     "name": "stdout",
     "output_type": "stream",
     "text": [
      "count    11162.000000\n",
      "mean        41.222182\n",
      "std         11.893063\n",
      "min         18.000000\n",
      "25%         32.000000\n",
      "50%         39.000000\n",
      "75%         49.000000\n",
      "max         95.000000\n",
      "Name: age, dtype: float64 \n",
      "\n",
      "count    11162.000000\n",
      "mean      1528.836678\n",
      "std       3125.143416\n",
      "min      -3058.000000\n",
      "25%        122.000000\n",
      "50%        554.000000\n",
      "75%       1717.750000\n",
      "max      81204.000000\n",
      "Name: balance, dtype: float64 \n",
      "\n",
      "count    11162.000000\n",
      "mean        15.470794\n",
      "std          8.384502\n",
      "min          1.000000\n",
      "25%          8.000000\n",
      "50%         15.000000\n",
      "75%         21.000000\n",
      "max         31.000000\n",
      "Name: day, dtype: float64 \n",
      "\n",
      "count    11162.000000\n",
      "mean       371.695126\n",
      "std        346.483909\n",
      "min          0.000000\n",
      "25%        139.000000\n",
      "50%        253.000000\n",
      "75%        494.000000\n",
      "max       3881.000000\n",
      "Name: duration, dtype: float64 \n",
      "\n",
      "count    11162.000000\n",
      "mean         0.814639\n",
      "std          2.185130\n",
      "min          0.000000\n",
      "25%          0.000000\n",
      "50%          0.000000\n",
      "75%          1.000000\n",
      "max         58.000000\n",
      "Name: previous, dtype: float64 \n",
      "\n",
      "count    11162.000000\n",
      "mean        51.599534\n",
      "std        108.580005\n",
      "min         -1.000000\n",
      "25%         -1.000000\n",
      "50%         -1.000000\n",
      "75%         33.750000\n",
      "max        854.000000\n",
      "Name: pdays, dtype: float64 \n",
      "\n",
      "count    11162.000000\n",
      "mean         2.494893\n",
      "std          2.582154\n",
      "min          1.000000\n",
      "25%          1.000000\n",
      "50%          2.000000\n",
      "75%          3.000000\n",
      "max         39.000000\n",
      "Name: campaign, dtype: float64 \n",
      "\n"
     ]
    },
    {
     "data": {
      "image/png": "[encoded data removed]",
      "text/plain": [
       "<Figure size 1008x720 with 9 Axes>"
      ]
     },
     "metadata": {
      "needs_background": "light"
     },
     "output_type": "display_data"
    }
   ],
   "source": [
    "# numerical attributes\n",
    "for col in numerical:\n",
    "    print(new_df[col].describe(),\"\\n\")\n",
    "new_df.drop(columns='y').hist(bins = 20, figsize=(14,10))\n",
    "plt.show()"
   ]
  },
  {
   "cell_type": "code",
   "execution_count": 80,
   "metadata": {},
   "outputs": [
    {
     "data": {
      "text/plain": [
       "<matplotlib.axes._subplots.AxesSubplot at 0x235ac3e8848>"
      ]
     },
     "execution_count": 80,
     "metadata": {},
     "output_type": "execute_result"
    },
    {
     "data": {
      "image/png": "[encoded data removed]",
      "text/plain": [
       "<Figure size 1080x1080 with 2 Axes>"
      ]
     },
     "metadata": {
      "needs_background": "light"
     },
     "output_type": "display_data"
    }
   ],
   "source": [
    "def tran_y(x):\n",
    "    if x == 'yes':\n",
    "        return 1\n",
    "    if x == 'no':\n",
    "        return 0\n",
    "    else:\n",
    "        return x\n",
    "new_df.y = new_df.y.apply(tran_y)\n",
    "plt.subplots(figsize = (15,15))\n",
    "sns.heatmap(data = new_df.corr(), annot=True)"
   ]
  },
  {
   "cell_type": "markdown",
   "metadata": {},
   "source": [
    ">pdays and poutcome do not correlate to the outcome much so we can drop those attributes"
   ]
  },
  {
   "cell_type": "markdown",
   "metadata": {},
   "source": [
    "# imputing missing values"
   ]
  },
  {
   "cell_type": "code",
   "execution_count": 81,
   "metadata": {},
   "outputs": [],
   "source": [
    "from sklearn.impute import SimpleImputer\n",
    "imputer_mode = SimpleImputer(missing_values= 'unknown', strategy= 'most_frequent')"
   ]
  },
  {
   "cell_type": "markdown",
   "metadata": {},
   "source": [
    "# categorical data transformation"
   ]
  },
  {
   "cell_type": "code",
   "execution_count": 82,
   "metadata": {},
   "outputs": [],
   "source": [
    "def tran_job(x):\n",
    "  if x == 'housemaid':\n",
    "    return 1\n",
    "  if x == 'entrepreneur':\n",
    "    return 2\n",
    "  if x == 'self-employed':\n",
    "    return 3\n",
    "  if x == 'unemployed':\n",
    "    return 4\n",
    "  if x == 'student':\n",
    "    return 5\n",
    "  if x == 'services':\n",
    "    return 6\n",
    "  if x == 'retired':\n",
    "    return 7\n",
    "  if x == 'admin.':\n",
    "    return 8\n",
    "  if x == 'blue-collar':\n",
    "    return 9\n",
    "  if x == 'technician':\n",
    "    return 10\n",
    "  if x == 'management':\n",
    "    return 11\n",
    "  else:\n",
    "    return x\n",
    "def tran_marital(x):\n",
    "  if x == 'married':\n",
    "    return 3\n",
    "  if x == 'single':\n",
    "    return 2\n",
    "  if x == 'divorced':\n",
    "    return 1\n",
    "  else:\n",
    "    return x\n",
    "def tran_education(x):\n",
    "  if x == 'secondary':\n",
    "    return 3\n",
    "  if x == 'tertiary':\n",
    "    return 2\n",
    "  if x == 'primary':\n",
    "    return 1\n",
    "  else:\n",
    "    return x\n",
    "def tran_binary_no(x):\n",
    "  if x == 'no':\n",
    "    return 1\n",
    "  if x =='yes':\n",
    "    return 0\n",
    "  else:\n",
    "    return x\n",
    "def tran_contact(x):\n",
    "    if x == 'cellular':\n",
    "        return 1\n",
    "    if x == 'telephone':\n",
    "        return 0\n",
    "    else:\n",
    "        return x\n",
    "def tran_month(x):\n",
    "    if x == 'dec':\n",
    "        return 1\n",
    "    if x == 'jan':\n",
    "        return 2\n",
    "    if x == 'mar':\n",
    "        return 3\n",
    "    if x == 'sep':\n",
    "        return 4\n",
    "    if x == 'oct':\n",
    "        return 5\n",
    "    if x == 'nov':\n",
    "        return 6\n",
    "    if x == 'feb':\n",
    "        return 7\n",
    "    if x == 'jun':\n",
    "        return 8\n",
    "    if x == 'apr':\n",
    "        return 9\n",
    "    if x == 'jul':\n",
    "        return 10\n",
    "    if x == 'aug':\n",
    "        return 11\n",
    "    if x == 'may':\n",
    "        return 12\n",
    "def tran_y(x):\n",
    "    if x == 'yes':\n",
    "        return 1\n",
    "    if x == 'no':\n",
    "        return 0\n",
    "    else:\n",
    "        return x"
   ]
  },
  {
   "cell_type": "markdown",
   "metadata": {},
   "source": [
    "# group age, duration and remove outliers from balance, campaign, previous"
   ]
  },
  {
   "cell_type": "code",
   "execution_count": 83,
   "metadata": {},
   "outputs": [],
   "source": [
    "def duration_group( x):\n",
    "    if x <=102:\n",
    "        return 1\n",
    "    elif x<=180:\n",
    "        return 2\n",
    "    elif x <=319:\n",
    "        return 3\n",
    "    elif x<=644.5:\n",
    "        return 4\n",
    "    else:\n",
    "        return 5\n",
    "def age_group(x):\n",
    "    if x <=32:\n",
    "        return 1\n",
    "    elif x <= 47:\n",
    "        return 2\n",
    "    elif x <= 70:\n",
    "        return 3\n",
    "    else:\n",
    "        return 4\n",
    "def remove_outliers(data):\n",
    "    new = data.copy()\n",
    "    numerical = ['balance', 'previous', 'campaign']\n",
    "    outlier = {}\n",
    "    for col in numerical:\n",
    "        outlier[col] = []\n",
    "        data = new_df[col].to_numpy()\n",
    "        mean = new_df[col].mean()\n",
    "        std = new_df[col].std()\n",
    "        count_ouliers = 0\n",
    "        for i in range(len(data)):\n",
    "            z = (data[i]-mean)/std\n",
    "            if z >3 or z<-3:\n",
    "                count_ouliers+=1\n",
    "                outlier[col].append(i)\n",
    "    o = list(set(outlier['balance']+outlier['previous']+outlier['campaign']))\n",
    "    new.drop(new.index[o], inplace = True)\n",
    "    return new\n",
    "    "
   ]
  },
  {
   "cell_type": "markdown",
   "metadata": {},
   "source": [
    "# transform the dataset and normalize data"
   ]
  },
  {
   "cell_type": "code",
   "execution_count": 84,
   "metadata": {},
   "outputs": [],
   "source": [
    "from sklearn.preprocessing import StandardScaler\n",
    "def preprocessing(dataframe):\n",
    "    copy_df = dataframe.copy()\n",
    "    columns = copy_df.columns\n",
    "    imputer_mode = SimpleImputer(missing_values= 'unknown', strategy= 'most_frequent')\n",
    "    copy_df = imputer_mode.fit_transform(copy_df)\n",
    "    copy_df = pd.DataFrame(copy_df, columns = columns)\n",
    "    copy_df.job = copy_df.job.apply(tran_job)\n",
    "    copy_df.marital = copy_df.marital.apply(tran_marital)\n",
    "    copy_df.education = copy_df.education.apply(tran_education)\n",
    "    copy_df.default = copy_df.default.apply(tran_binary_no)\n",
    "    copy_df.housing = copy_df.housing.apply(tran_binary_no)\n",
    "    copy_df.loan = copy_df.loan.apply(tran_binary_no)\n",
    "    copy_df.contact = copy_df.contact.apply(tran_contact)\n",
    "    copy_df.month = copy_df.month.apply(tran_month)\n",
    "    copy_df = copy_df.drop(columns = ['poutcome', 'pdays'])\n",
    "    copy_df.age = copy_df.age.apply(age_group)\n",
    "    copy_df.duration = copy_df.duration.apply(duration_group)\n",
    "    copy_df.y = copy_df.y.apply(tran_y)\n",
    "    copy_df = remove_outliers(copy_df).reset_index(drop = 1)\n",
    "    \n",
    "    feature = []\n",
    "    for i in columns:\n",
    "        if i not in ['y', 'poutcome', 'pdays']:\n",
    "            feature.append(i)\n",
    "    scaler = StandardScaler()\n",
    "    X = scaler.fit_transform(copy_df.drop(columns = 'y'))\n",
    "    y = copy_df.y\n",
    "    X = pd.DataFrame(X, columns = feature);\n",
    "    copy_df = pd.concat([X, y], axis= 1)\n",
    "    \n",
    "    return copy_df"
   ]
  },
  {
   "cell_type": "code",
   "execution_count": 121,
   "metadata": {
    "scrolled": true
   },
   "outputs": [
    {
     "data": {
      "text/html": [
       "<div>\n",
       "<style scoped>\n",
       "    .dataframe tbody tr th:only-of-type {\n",
       "        vertical-align: middle;\n",
       "    }\n",
       "\n",
       "    .dataframe tbody tr th {\n",
       "        vertical-align: top;\n",
       "    }\n",
       "\n",
       "    .dataframe thead th {\n",
       "        text-align: right;\n",
       "    }\n",
       "</style>\n",
       "<table border=\"1\" class=\"dataframe\">\n",
       "  <thead>\n",
       "    <tr style=\"text-align: right;\">\n",
       "      <th></th>\n",
       "      <th>age</th>\n",
       "      <th>job</th>\n",
       "      <th>marital</th>\n",
       "      <th>education</th>\n",
       "      <th>default</th>\n",
       "      <th>balance</th>\n",
       "      <th>housing</th>\n",
       "      <th>loan</th>\n",
       "      <th>contact</th>\n",
       "      <th>day</th>\n",
       "      <th>month</th>\n",
       "      <th>duration</th>\n",
       "      <th>campaign</th>\n",
       "      <th>previous</th>\n",
       "      <th>y</th>\n",
       "    </tr>\n",
       "  </thead>\n",
       "  <tbody>\n",
       "    <tr>\n",
       "      <th>0</th>\n",
       "      <td>1.304196</td>\n",
       "      <td>1.038375</td>\n",
       "      <td>0.740629</td>\n",
       "      <td>-0.545735</td>\n",
       "      <td>0.134849</td>\n",
       "      <td>0.255437</td>\n",
       "      <td>-0.899113</td>\n",
       "      <td>0.437121</td>\n",
       "      <td>0.263922</td>\n",
       "      <td>-1.299792</td>\n",
       "      <td>0.974767</td>\n",
       "      <td>0.347957</td>\n",
       "      <td>-0.570794</td>\n",
       "      <td>-0.253692</td>\n",
       "      <td>0</td>\n",
       "    </tr>\n",
       "    <tr>\n",
       "      <th>1</th>\n",
       "      <td>-0.047525</td>\n",
       "      <td>-2.314090</td>\n",
       "      <td>0.740629</td>\n",
       "      <td>0.811713</td>\n",
       "      <td>0.134849</td>\n",
       "      <td>-0.446562</td>\n",
       "      <td>-0.899113</td>\n",
       "      <td>-2.287696</td>\n",
       "      <td>0.263922</td>\n",
       "      <td>-1.299792</td>\n",
       "      <td>0.974767</td>\n",
       "      <td>-1.272066</td>\n",
       "      <td>-0.570794</td>\n",
       "      <td>-0.253692</td>\n",
       "      <td>0</td>\n",
       "    </tr>\n",
       "    <tr>\n",
       "      <th>2</th>\n",
       "      <td>-0.047525</td>\n",
       "      <td>0.293383</td>\n",
       "      <td>0.740629</td>\n",
       "      <td>0.811713</td>\n",
       "      <td>0.134849</td>\n",
       "      <td>0.046575</td>\n",
       "      <td>-0.899113</td>\n",
       "      <td>0.437121</td>\n",
       "      <td>0.263922</td>\n",
       "      <td>-1.299792</td>\n",
       "      <td>0.974767</td>\n",
       "      <td>-1.272066</td>\n",
       "      <td>-0.570794</td>\n",
       "      <td>-0.253692</td>\n",
       "      <td>0</td>\n",
       "    </tr>\n",
       "    <tr>\n",
       "      <th>3</th>\n",
       "      <td>-0.047525</td>\n",
       "      <td>0.293383</td>\n",
       "      <td>-0.702470</td>\n",
       "      <td>0.811713</td>\n",
       "      <td>0.134849</td>\n",
       "      <td>-0.446890</td>\n",
       "      <td>1.112207</td>\n",
       "      <td>0.437121</td>\n",
       "      <td>0.263922</td>\n",
       "      <td>-1.299792</td>\n",
       "      <td>0.974767</td>\n",
       "      <td>0.347957</td>\n",
       "      <td>-0.570794</td>\n",
       "      <td>-0.253692</td>\n",
       "      <td>0</td>\n",
       "    </tr>\n",
       "    <tr>\n",
       "      <th>4</th>\n",
       "      <td>-0.047525</td>\n",
       "      <td>1.038375</td>\n",
       "      <td>0.740629</td>\n",
       "      <td>-0.545735</td>\n",
       "      <td>0.134849</td>\n",
       "      <td>-0.371477</td>\n",
       "      <td>-0.899113</td>\n",
       "      <td>0.437121</td>\n",
       "      <td>0.263922</td>\n",
       "      <td>-1.299792</td>\n",
       "      <td>0.974767</td>\n",
       "      <td>-0.462055</td>\n",
       "      <td>-0.570794</td>\n",
       "      <td>-0.253692</td>\n",
       "      <td>0</td>\n",
       "    </tr>\n",
       "  </tbody>\n",
       "</table>\n",
       "</div>"
      ],
      "text/plain": [
       "        age       job   marital  education   default   balance   housing  \\\n",
       "0  1.304196  1.038375  0.740629  -0.545735  0.134849  0.255437 -0.899113   \n",
       "1 -0.047525 -2.314090  0.740629   0.811713  0.134849 -0.446562 -0.899113   \n",
       "2 -0.047525  0.293383  0.740629   0.811713  0.134849  0.046575 -0.899113   \n",
       "3 -0.047525  0.293383 -0.702470   0.811713  0.134849 -0.446890  1.112207   \n",
       "4 -0.047525  1.038375  0.740629  -0.545735  0.134849 -0.371477 -0.899113   \n",
       "\n",
       "       loan   contact       day     month  duration  campaign  previous  y  \n",
       "0  0.437121  0.263922 -1.299792  0.974767  0.347957 -0.570794 -0.253692  0  \n",
       "1 -2.287696  0.263922 -1.299792  0.974767 -1.272066 -0.570794 -0.253692  0  \n",
       "2  0.437121  0.263922 -1.299792  0.974767 -1.272066 -0.570794 -0.253692  0  \n",
       "3  0.437121  0.263922 -1.299792  0.974767  0.347957 -0.570794 -0.253692  0  \n",
       "4  0.437121  0.263922 -1.299792  0.974767 -0.462055 -0.570794 -0.253692  0  "
      ]
     },
     "execution_count": 121,
     "metadata": {},
     "output_type": "execute_result"
    }
   ],
   "source": [
    "input = preprocessing(bank_full_df)\n",
    "input.to_csv(r'bank_encoded.csv', index = False, header=True)\n",
    "input.head()"
   ]
  },
  {
   "cell_type": "markdown",
   "metadata": {},
   "source": [
    "# spliting the dataset into train and test set in a stratified way to preserve the distribution of data"
   ]
  },
  {
   "cell_type": "code",
   "execution_count": 87,
   "metadata": {},
   "outputs": [],
   "source": [
    "from sklearn.model_selection import StratifiedShuffleSplit\n",
    "\n",
    "# Here we split the data into training and test sets and implement a stratified shuffle split.\n",
    "\n",
    "input_df = pd.read_csv(r\"C:\\Users\\nguye\\git\\ML project\\Original\\ML-miniproject\\encoded_data.csv\", encoding = \"Latin-1\")\n",
    "stratified = StratifiedShuffleSplit(n_splits=1, test_size=0.2, random_state=42)\n",
    "X = input_df.drop(columns='y')\n",
    "y = input_df.y\n",
    "\n",
    "for train_set, test_set in stratified.split(X, X[\"loan\"]):\n",
    "    stratified_train = X.loc[train_set]\n",
    "    stratified_test = X.loc[test_set]\n",
    "    \n",
    "stratified_train[\"loan\"].value_counts()/len(stratified_train)\n",
    "stratified_train.reset_index(drop = 1)\n",
    "y_train = y[stratified_train.index]\n",
    "y_test = y[stratified_test.index]"
   ]
  },
  {
   "cell_type": "markdown",
   "metadata": {},
   "source": [
    "# ML models for balanced dataset"
   ]
  },
  {
   "cell_type": "markdown",
   "metadata": {},
   "source": [
    "# 1. KNN model"
   ]
  },
  {
   "cell_type": "code",
   "execution_count": 114,
   "metadata": {},
   "outputs": [
    {
     "data": {
      "image/png": "[encoded data removed]",
      "text/plain": [
       "<Figure size 720x360 with 1 Axes>"
      ]
     },
     "metadata": {
      "needs_background": "light"
     },
     "output_type": "display_data"
    }
   ],
   "source": [
    "#here we use validation set to determine the hyper-parameter k\n",
    "\n",
    "from sklearn.neighbors import KNeighborsClassifier\n",
    "from sklearn.metrics import f1_score, accuracy_score\n",
    "from sklearn.model_selection import cross_val_score\n",
    "training_accuracy = []\n",
    "val_accuracy = []\n",
    "training_f1 = []\n",
    "val_f1 = []\n",
    "k_neighbors = []\n",
    "for k in range(1,20,2):\n",
    "    model = KNeighborsClassifier(n_neighbors=k, weights='uniform', p = 1)\n",
    "    model.fit(stratified_train, y_train)\n",
    "    y_pred_train = model.predict(stratified_train)\n",
    "    training_accuracy.append(accuracy_score(y_pred_train, y_train))\n",
    "    val_accuracy.append(cross_val_score(model, stratified_train, y_train, scoring= 'accuracy', cv = 5).mean())\n",
    "    training_f1.append(f1_score(y_pred_train, y_train))\n",
    "    val_f1.append(cross_val_score(model, stratified_train, y_train, scoring= 'f1_macro', cv = 5).mean())\n",
    "    k_neighbors.append(k)\n",
    "\n",
    "plt.subplots(figsize = (10,5))\n",
    "plt.plot(k_neighbors, training_accuracy, '-ok', label = 'training_accuracy', color = 'blue')\n",
    "plt.plot(k_neighbors, training_f1,'-ok', label = 'training_f1', color = 'green')\n",
    "plt.plot(k_neighbors, val_accuracy,'-ok', label = 'validation_accuracy', color = 'orange')\n",
    "plt.plot(k_neighbors, val_f1,'-ok', label = 'validation_f1', color = 'red')\n",
    "plt.title('Accuracy')\n",
    "plt.xlabel(\"k_neighbors\")\n",
    "plt.ylabel(\"values\")\n",
    "plt.xticks(k_neighbors)\n",
    "plt.legend()\n",
    "plt.show()"
   ]
  },
  {
   "cell_type": "code",
   "execution_count": 115,
   "metadata": {},
   "outputs": [
    {
     "name": "stdout",
     "output_type": "stream",
     "text": [
      "Test Accuracy:  0.8110383536014967\n",
      "Test F1 Score:  0.7967806841046278\n",
      "Confusion Matrix on Test Data\n"
     ]
    },
    {
     "data": {
      "text/html": [
       "<div>\n",
       "<style scoped>\n",
       "    .dataframe tbody tr th:only-of-type {\n",
       "        vertical-align: middle;\n",
       "    }\n",
       "\n",
       "    .dataframe tbody tr th {\n",
       "        vertical-align: top;\n",
       "    }\n",
       "\n",
       "    .dataframe thead th {\n",
       "        text-align: right;\n",
       "    }\n",
       "</style>\n",
       "<table border=\"1\" class=\"dataframe\">\n",
       "  <thead>\n",
       "    <tr style=\"text-align: right;\">\n",
       "      <th>Predicted</th>\n",
       "      <th>0</th>\n",
       "      <th>1</th>\n",
       "      <th>All</th>\n",
       "    </tr>\n",
       "    <tr>\n",
       "      <th>True</th>\n",
       "      <th></th>\n",
       "      <th></th>\n",
       "      <th></th>\n",
       "    </tr>\n",
       "  </thead>\n",
       "  <tbody>\n",
       "    <tr>\n",
       "      <th>0</th>\n",
       "      <td>942</td>\n",
       "      <td>195</td>\n",
       "      <td>1137</td>\n",
       "    </tr>\n",
       "    <tr>\n",
       "      <th>1</th>\n",
       "      <td>209</td>\n",
       "      <td>792</td>\n",
       "      <td>1001</td>\n",
       "    </tr>\n",
       "    <tr>\n",
       "      <th>All</th>\n",
       "      <td>1151</td>\n",
       "      <td>987</td>\n",
       "      <td>2138</td>\n",
       "    </tr>\n",
       "  </tbody>\n",
       "</table>\n",
       "</div>"
      ],
      "text/plain": [
       "Predicted     0    1   All\n",
       "True                      \n",
       "0           942  195  1137\n",
       "1           209  792  1001\n",
       "All        1151  987  2138"
      ]
     },
     "execution_count": 115,
     "metadata": {},
     "output_type": "execute_result"
    }
   ],
   "source": [
    "#from the graph we saw k = 13 produces the best result\n",
    "\n",
    "model = KNeighborsClassifier(n_neighbors= 13, weights= 'uniform', p = 1)\n",
    "model.fit(stratified_train, y_train)\n",
    "y_pred = model.predict(stratified_test)\n",
    "print(\"Test Accuracy: \",accuracy_score(y_test,y_pred))\n",
    "print(\"Test F1 Score: \",f1_score(y_test,y_pred))\n",
    "print(\"Confusion Matrix on Test Data\") \n",
    "pd.crosstab(y_test, y_pred, rownames=['True'], colnames=['Predicted'], margins=True)"
   ]
  },
  {
   "cell_type": "code",
   "execution_count": 122,
   "metadata": {},
   "outputs": [],
   "source": [
    "from sklearn.model_selection import train_test_split\n",
    "from sklearn.model_selection import cross_val_score\n",
    "\n",
    "bank_encoded = pd.read_csv('bank_encoded.csv', encoding = \"Latin-1\")\n",
    "# Features: first 20 columns\n",
    "array = bank_encoded.values\n",
    "X = array[:,0:-1]\n",
    "\n",
    "# Target variable: 'response_binary'\n",
    "Y = array[:,-1]\n",
    "X_train, X_test, Y_train, Y_test= train_test_split(X, Y, test_size=0.2, random_state=7)\n"
   ]
  },
  {
   "cell_type": "code",
   "execution_count": 125,
   "metadata": {},
   "outputs": [],
   "source": [
    "from joblib import dump, load\n",
    "dump(model, 'KNN_model.joblib')\n",
    "clf = load( 'KNN_model.joblib')"
   ]
  },
  {
   "cell_type": "code",
   "execution_count": 126,
   "metadata": {},
   "outputs": [
    {
     "name": "stdout",
     "output_type": "stream",
     "text": [
      "Test score: 72.19 %\n"
     ]
    },
    {
     "data": {
      "text/plain": [
       "array([1, 0, 1, ..., 0, 0, 0], dtype=int64)"
      ]
     },
     "execution_count": 126,
     "metadata": {},
     "output_type": "execute_result"
    }
   ],
   "source": [
    "# Calculate the accuracy score and predict target values\n",
    "\n",
    "# Calculate the Score \n",
    "score = clf.score(X,Y)  \n",
    "# Print the Score\n",
    "print(\"Test score: {0:.2f} %\".format(100 * score))  \n",
    "\n",
    "# Predict the Labels using the reloaded Model\n",
    "Ypredict = clf.predict(X_train)  \n",
    "\n",
    "Ypredict"
   ]
  },
  {
   "cell_type": "markdown",
   "metadata": {},
   "source": [
    "# Decision tree model"
   ]
  },
  {
   "cell_type": "code",
   "execution_count": 127,
   "metadata": {},
   "outputs": [
    {
     "data": {
      "image/png": "[encoded data removed]",
      "text/plain": [
       "<Figure size 720x360 with 1 Axes>"
      ]
     },
     "metadata": {
      "needs_background": "light"
     },
     "output_type": "display_data"
    }
   ],
   "source": [
    "#here we use validation set to determine the best max_depth of the tree\n",
    "\n",
    "from sklearn.tree import DecisionTreeClassifier\n",
    "from sklearn.model_selection import cross_val_score\n",
    "training_accuracy = []\n",
    "val_accuracy = []\n",
    "training_f1 = []\n",
    "val_f1 = []\n",
    "tree_depths = []\n",
    "\n",
    "for depth in range(1,20):\n",
    "    tree_clf = DecisionTreeClassifier(max_depth=depth)\n",
    "    tree_clf.fit(stratified_train,y_train)\n",
    "    y_training_pred = tree_clf.predict(stratified_train)\n",
    "\n",
    "    training_acc = accuracy_score(y_train,y_training_pred)\n",
    "    train_f1 = f1_score(y_train,y_training_pred)\n",
    "    val_mean_f1 = cross_val_score(tree_clf,stratified_train,y_train,cv=5,scoring='f1_macro').mean()\n",
    "    val_mean_accuracy = cross_val_score(tree_clf,stratified_train,y_train,cv=5,scoring='accuracy').mean()\n",
    "    \n",
    "    training_accuracy.append(training_acc)\n",
    "    val_accuracy.append(val_mean_accuracy)\n",
    "    training_f1.append(train_f1)\n",
    "    val_f1.append(val_mean_f1)\n",
    "    tree_depths.append(depth)\n",
    "    \n",
    "\n",
    "plt.subplots(figsize = (10,5))\n",
    "plt.plot(tree_depths, training_accuracy, '-ok', label = 'training_accuracy', color = 'blue')\n",
    "plt.plot(tree_depths, training_f1,'-ok', label = 'training_f1', color = 'green')\n",
    "plt.plot(tree_depths, val_accuracy,'-ok', label = 'validation_accuracy', color = 'orange')\n",
    "plt.plot(tree_depths, val_f1,'-ok', label = 'validation_f1', color = 'red')\n",
    "plt.title('Accuracy')\n",
    "plt.xlabel(\"tree_depth\")\n",
    "plt.ylabel(\"values\")\n",
    "plt.xticks(k_neighbors)\n",
    "plt.legend()\n",
    "plt.show()"
   ]
  },
  {
   "cell_type": "code",
   "execution_count": 128,
   "metadata": {
    "scrolled": true
   },
   "outputs": [
    {
     "name": "stdout",
     "output_type": "stream",
     "text": [
      "Test Accuracy:  0.8119738072965388\n",
      "Test F1 Score:  0.8021653543307086\n",
      "Confusion Matrix on Test Data\n"
     ]
    },
    {
     "data": {
      "text/html": [
       "<div>\n",
       "<style scoped>\n",
       "    .dataframe tbody tr th:only-of-type {\n",
       "        vertical-align: middle;\n",
       "    }\n",
       "\n",
       "    .dataframe tbody tr th {\n",
       "        vertical-align: top;\n",
       "    }\n",
       "\n",
       "    .dataframe thead th {\n",
       "        text-align: right;\n",
       "    }\n",
       "</style>\n",
       "<table border=\"1\" class=\"dataframe\">\n",
       "  <thead>\n",
       "    <tr style=\"text-align: right;\">\n",
       "      <th>Predicted</th>\n",
       "      <th>0</th>\n",
       "      <th>1</th>\n",
       "      <th>All</th>\n",
       "    </tr>\n",
       "    <tr>\n",
       "      <th>True</th>\n",
       "      <th></th>\n",
       "      <th></th>\n",
       "      <th></th>\n",
       "    </tr>\n",
       "  </thead>\n",
       "  <tbody>\n",
       "    <tr>\n",
       "      <th>0</th>\n",
       "      <td>921</td>\n",
       "      <td>216</td>\n",
       "      <td>1137</td>\n",
       "    </tr>\n",
       "    <tr>\n",
       "      <th>1</th>\n",
       "      <td>186</td>\n",
       "      <td>815</td>\n",
       "      <td>1001</td>\n",
       "    </tr>\n",
       "    <tr>\n",
       "      <th>All</th>\n",
       "      <td>1107</td>\n",
       "      <td>1031</td>\n",
       "      <td>2138</td>\n",
       "    </tr>\n",
       "  </tbody>\n",
       "</table>\n",
       "</div>"
      ],
      "text/plain": [
       "Predicted     0     1   All\n",
       "True                       \n",
       "0           921   216  1137\n",
       "1           186   815  1001\n",
       "All        1107  1031  2138"
      ]
     },
     "execution_count": 128,
     "metadata": {},
     "output_type": "execute_result"
    }
   ],
   "source": [
    "# from the graph we saw max_depth = 7 produces the best result\n",
    "\n",
    "tree_clf = DecisionTreeClassifier(max_depth=7)\n",
    "tree_clf.fit(stratified_train,y_train)\n",
    "y_pred = tree_clf.predict(stratified_test)\n",
    "print(\"Test Accuracy: \",accuracy_score(y_test,y_pred))\n",
    "print(\"Test F1 Score: \",f1_score(y_test,y_pred))\n",
    "print(\"Confusion Matrix on Test Data\")\n",
    "pd.crosstab(y_test, y_pred, rownames=['True'], colnames=['Predicted'], margins=True)"
   ]
  },
  {
   "cell_type": "code",
   "execution_count": 134,
   "metadata": {},
   "outputs": [],
   "source": [
    "from joblib import dump, load\n",
    "dump(tree_clf, 'DecisionTree_model.joblib')\n",
    "clf = load('DecisionTree_model.joblib') \n"
   ]
  },
  {
   "cell_type": "code",
   "execution_count": 135,
   "metadata": {},
   "outputs": [
    {
     "name": "stdout",
     "output_type": "stream",
     "text": [
      "Test score: 61.59 %\n"
     ]
    },
    {
     "data": {
      "text/plain": [
       "array([1, 0, 1, ..., 1, 0, 1], dtype=int64)"
      ]
     },
     "execution_count": 135,
     "metadata": {},
     "output_type": "execute_result"
    }
   ],
   "source": [
    "# Calculate the accuracy score and predict target values\n",
    "\n",
    "# Calculate the Score \n",
    "score = clf.score(X,Y)  \n",
    "# Print the Score\n",
    "print(\"Test score: {0:.2f} %\".format(100 * score))  \n",
    "\n",
    "# Predict the Labels using the reloaded Model\n",
    "Ypredict = clf.predict(X_test)  \n",
    "\n",
    "Ypredict"
   ]
  },
  {
   "cell_type": "code",
   "execution_count": 145,
   "metadata": {},
   "outputs": [
    {
     "ename": "ModuleNotFoundError",
     "evalue": "No module named 'graphviz'",
     "output_type": "error",
     "traceback": [
      "\u001b[1;31m---------------------------------------------------------------------------\u001b[0m",
      "\u001b[1;31mModuleNotFoundError\u001b[0m                       Traceback (most recent call last)",
      "\u001b[1;32m<ipython-input-145-78e26067f92a>\u001b[0m in \u001b[0;36m<module>\u001b[1;34m\u001b[0m\n\u001b[1;32m----> 1\u001b[1;33m \u001b[1;32mimport\u001b[0m \u001b[0mgraphviz\u001b[0m\u001b[1;33m\u001b[0m\u001b[1;33m\u001b[0m\u001b[0m\n\u001b[0m\u001b[0;32m      2\u001b[0m \u001b[0mdot_data\u001b[0m \u001b[1;33m=\u001b[0m \u001b[0mtree\u001b[0m\u001b[1;33m.\u001b[0m\u001b[0mexport_graphviz\u001b[0m\u001b[1;33m(\u001b[0m\u001b[0mtree_clf\u001b[0m\u001b[1;33m,\u001b[0m \u001b[0mout_file\u001b[0m\u001b[1;33m=\u001b[0m\u001b[1;32mNone\u001b[0m\u001b[1;33m,\u001b[0m \u001b[0mfeature_names\u001b[0m\u001b[1;33m=\u001b[0m\u001b[0mfeature\u001b[0m\u001b[1;33m,\u001b[0m \u001b[0mclass_names\u001b[0m\u001b[1;33m=\u001b[0m\u001b[1;33m[\u001b[0m\u001b[1;34m'no'\u001b[0m\u001b[1;33m,\u001b[0m \u001b[1;34m'yes'\u001b[0m\u001b[1;33m]\u001b[0m\u001b[1;33m,\u001b[0m \u001b[0mfilled\u001b[0m\u001b[1;33m=\u001b[0m\u001b[1;32mTrue\u001b[0m\u001b[1;33m)\u001b[0m\u001b[1;33m\u001b[0m\u001b[1;33m\u001b[0m\u001b[0m\n\u001b[0;32m      3\u001b[0m \u001b[0mgraph\u001b[0m \u001b[1;33m=\u001b[0m \u001b[0mgraphviz\u001b[0m\u001b[1;33m.\u001b[0m\u001b[0mSource\u001b[0m\u001b[1;33m(\u001b[0m\u001b[0mdot_data\u001b[0m\u001b[1;33m,\u001b[0m \u001b[0mformat\u001b[0m\u001b[1;33m=\u001b[0m\u001b[1;34m'png'\u001b[0m\u001b[1;33m)\u001b[0m\u001b[1;33m\u001b[0m\u001b[1;33m\u001b[0m\u001b[0m\n\u001b[0;32m      4\u001b[0m \u001b[0mgraph\u001b[0m\u001b[1;33m\u001b[0m\u001b[1;33m\u001b[0m\u001b[0m\n",
      "\u001b[1;31mModuleNotFoundError\u001b[0m: No module named 'graphviz'"
     ]
    }
   ],
   "source": [
    "import graphviz\n",
    "dot_data = tree.export_graphviz(tree_clf, out_file=None, feature_names=feature, class_names=['no', 'yes'], filled=True)\n",
    "graph = graphviz.Source(dot_data, format='png')\n",
    "graph"
   ]
  },
  {
   "cell_type": "code",
   "execution_count": 137,
   "metadata": {},
   "outputs": [
    {
     "name": "stdout",
     "output_type": "stream",
     "text": [
      "Train F1 Score  0.8278949228413239\n",
      "Train Accuracy  0.8291627689429373\n",
      "Validation Mean F1 Score:  0.8098563793110083\n",
      "Validation Mean Accuracy:  0.8124427081731213\n"
     ]
    }
   ],
   "source": [
    "#random forest model\n",
    "\n",
    "from sklearn.ensemble import RandomForestClassifier\n",
    "\n",
    "rf_clf = RandomForestClassifier(max_depth=7)\n",
    "rf_clf.fit(stratified_train,y_train)\n",
    "y_pred = rf_clf.predict(stratified_train)\n",
    "print(\"Train F1 Score \", f1_score(y_train,y_pred))\n",
    "print(\"Train Accuracy \", accuracy_score(y_train,y_pred))\n",
    "\n",
    "print(\"Validation Mean F1 Score: \",cross_val_score(rf_clf,stratified_train,y_train,cv=5,scoring='f1_macro').mean())\n",
    "print(\"Validation Mean Accuracy: \",cross_val_score(rf_clf,stratified_train,y_train,cv=5,scoring='accuracy').mean())"
   ]
  },
  {
   "cell_type": "code",
   "execution_count": 138,
   "metadata": {},
   "outputs": [
    {
     "name": "stdout",
     "output_type": "stream",
     "text": [
      "Test Accuracy:  0.8217960710944808\n",
      "Test F1 Score:  0.8167388167388168\n",
      "Confusion Matrix on Test Data\n"
     ]
    },
    {
     "data": {
      "text/html": [
       "<div>\n",
       "<style scoped>\n",
       "    .dataframe tbody tr th:only-of-type {\n",
       "        vertical-align: middle;\n",
       "    }\n",
       "\n",
       "    .dataframe tbody tr th {\n",
       "        vertical-align: top;\n",
       "    }\n",
       "\n",
       "    .dataframe thead th {\n",
       "        text-align: right;\n",
       "    }\n",
       "</style>\n",
       "<table border=\"1\" class=\"dataframe\">\n",
       "  <thead>\n",
       "    <tr style=\"text-align: right;\">\n",
       "      <th>Predicted</th>\n",
       "      <th>0</th>\n",
       "      <th>1</th>\n",
       "      <th>All</th>\n",
       "    </tr>\n",
       "    <tr>\n",
       "      <th>True</th>\n",
       "      <th></th>\n",
       "      <th></th>\n",
       "      <th></th>\n",
       "    </tr>\n",
       "  </thead>\n",
       "  <tbody>\n",
       "    <tr>\n",
       "      <th>0</th>\n",
       "      <td>908</td>\n",
       "      <td>229</td>\n",
       "      <td>1137</td>\n",
       "    </tr>\n",
       "    <tr>\n",
       "      <th>1</th>\n",
       "      <td>152</td>\n",
       "      <td>849</td>\n",
       "      <td>1001</td>\n",
       "    </tr>\n",
       "    <tr>\n",
       "      <th>All</th>\n",
       "      <td>1060</td>\n",
       "      <td>1078</td>\n",
       "      <td>2138</td>\n",
       "    </tr>\n",
       "  </tbody>\n",
       "</table>\n",
       "</div>"
      ],
      "text/plain": [
       "Predicted     0     1   All\n",
       "True                       \n",
       "0           908   229  1137\n",
       "1           152   849  1001\n",
       "All        1060  1078  2138"
      ]
     },
     "execution_count": 138,
     "metadata": {},
     "output_type": "execute_result"
    }
   ],
   "source": [
    "y_pred = rf_clf.predict(stratified_test)\n",
    "print(\"Test Accuracy: \",accuracy_score(y_test,y_pred))\n",
    "print(\"Test F1 Score: \",f1_score(y_test,y_pred))\n",
    "print(\"Confusion Matrix on Test Data\")\n",
    "pd.crosstab(y_test, y_pred, rownames=['True'], colnames=['Predicted'], margins=True)"
   ]
  },
  {
   "cell_type": "code",
   "execution_count": 139,
   "metadata": {},
   "outputs": [
    {
     "data": {
      "text/plain": [
       "0.5973560385390992"
      ]
     },
     "execution_count": 139,
     "metadata": {},
     "output_type": "execute_result"
    }
   ],
   "source": [
    "from joblib import dump, load\n",
    "dump(rf_clf, 'RandomForest_model.joblib')\n",
    "clf = load('RandomForest_model.joblib') \n",
    "clf.score(X_test,Y_test)"
   ]
  },
  {
   "cell_type": "markdown",
   "metadata": {},
   "source": [
    "# ML models for imbalanced dataset"
   ]
  },
  {
   "cell_type": "code",
   "execution_count": 141,
   "metadata": {},
   "outputs": [
    {
     "data": {
      "text/html": [
       "<div>\n",
       "<style scoped>\n",
       "    .dataframe tbody tr th:only-of-type {\n",
       "        vertical-align: middle;\n",
       "    }\n",
       "\n",
       "    .dataframe tbody tr th {\n",
       "        vertical-align: top;\n",
       "    }\n",
       "\n",
       "    .dataframe thead th {\n",
       "        text-align: right;\n",
       "    }\n",
       "</style>\n",
       "<table border=\"1\" class=\"dataframe\">\n",
       "  <thead>\n",
       "    <tr style=\"text-align: right;\">\n",
       "      <th></th>\n",
       "      <th>age</th>\n",
       "      <th>job</th>\n",
       "      <th>marital</th>\n",
       "      <th>education</th>\n",
       "      <th>default</th>\n",
       "      <th>balance</th>\n",
       "      <th>housing</th>\n",
       "      <th>loan</th>\n",
       "      <th>contact</th>\n",
       "      <th>day</th>\n",
       "      <th>month</th>\n",
       "      <th>duration</th>\n",
       "      <th>campaign</th>\n",
       "      <th>previous</th>\n",
       "      <th>y</th>\n",
       "    </tr>\n",
       "  </thead>\n",
       "  <tbody>\n",
       "    <tr>\n",
       "      <th>0</th>\n",
       "      <td>1.304196</td>\n",
       "      <td>1.038375</td>\n",
       "      <td>0.740629</td>\n",
       "      <td>-0.545735</td>\n",
       "      <td>0.134849</td>\n",
       "      <td>0.255437</td>\n",
       "      <td>-0.899113</td>\n",
       "      <td>0.437121</td>\n",
       "      <td>0.263922</td>\n",
       "      <td>-1.299792</td>\n",
       "      <td>0.974767</td>\n",
       "      <td>0.347957</td>\n",
       "      <td>-0.570794</td>\n",
       "      <td>-0.253692</td>\n",
       "      <td>0</td>\n",
       "    </tr>\n",
       "    <tr>\n",
       "      <th>1</th>\n",
       "      <td>-0.047525</td>\n",
       "      <td>-2.314090</td>\n",
       "      <td>0.740629</td>\n",
       "      <td>0.811713</td>\n",
       "      <td>0.134849</td>\n",
       "      <td>-0.446562</td>\n",
       "      <td>-0.899113</td>\n",
       "      <td>-2.287696</td>\n",
       "      <td>0.263922</td>\n",
       "      <td>-1.299792</td>\n",
       "      <td>0.974767</td>\n",
       "      <td>-1.272066</td>\n",
       "      <td>-0.570794</td>\n",
       "      <td>-0.253692</td>\n",
       "      <td>0</td>\n",
       "    </tr>\n",
       "    <tr>\n",
       "      <th>2</th>\n",
       "      <td>-0.047525</td>\n",
       "      <td>0.293383</td>\n",
       "      <td>0.740629</td>\n",
       "      <td>0.811713</td>\n",
       "      <td>0.134849</td>\n",
       "      <td>0.046575</td>\n",
       "      <td>-0.899113</td>\n",
       "      <td>0.437121</td>\n",
       "      <td>0.263922</td>\n",
       "      <td>-1.299792</td>\n",
       "      <td>0.974767</td>\n",
       "      <td>-1.272066</td>\n",
       "      <td>-0.570794</td>\n",
       "      <td>-0.253692</td>\n",
       "      <td>0</td>\n",
       "    </tr>\n",
       "    <tr>\n",
       "      <th>3</th>\n",
       "      <td>-0.047525</td>\n",
       "      <td>0.293383</td>\n",
       "      <td>-0.702470</td>\n",
       "      <td>0.811713</td>\n",
       "      <td>0.134849</td>\n",
       "      <td>-0.446890</td>\n",
       "      <td>1.112207</td>\n",
       "      <td>0.437121</td>\n",
       "      <td>0.263922</td>\n",
       "      <td>-1.299792</td>\n",
       "      <td>0.974767</td>\n",
       "      <td>0.347957</td>\n",
       "      <td>-0.570794</td>\n",
       "      <td>-0.253692</td>\n",
       "      <td>0</td>\n",
       "    </tr>\n",
       "    <tr>\n",
       "      <th>4</th>\n",
       "      <td>-0.047525</td>\n",
       "      <td>1.038375</td>\n",
       "      <td>0.740629</td>\n",
       "      <td>-0.545735</td>\n",
       "      <td>0.134849</td>\n",
       "      <td>-0.371477</td>\n",
       "      <td>-0.899113</td>\n",
       "      <td>0.437121</td>\n",
       "      <td>0.263922</td>\n",
       "      <td>-1.299792</td>\n",
       "      <td>0.974767</td>\n",
       "      <td>-0.462055</td>\n",
       "      <td>-0.570794</td>\n",
       "      <td>-0.253692</td>\n",
       "      <td>0</td>\n",
       "    </tr>\n",
       "  </tbody>\n",
       "</table>\n",
       "</div>"
      ],
      "text/plain": [
       "        age       job   marital  education   default   balance   housing  \\\n",
       "0  1.304196  1.038375  0.740629  -0.545735  0.134849  0.255437 -0.899113   \n",
       "1 -0.047525 -2.314090  0.740629   0.811713  0.134849 -0.446562 -0.899113   \n",
       "2 -0.047525  0.293383  0.740629   0.811713  0.134849  0.046575 -0.899113   \n",
       "3 -0.047525  0.293383 -0.702470   0.811713  0.134849 -0.446890  1.112207   \n",
       "4 -0.047525  1.038375  0.740629  -0.545735  0.134849 -0.371477 -0.899113   \n",
       "\n",
       "       loan   contact       day     month  duration  campaign  previous  y  \n",
       "0  0.437121  0.263922 -1.299792  0.974767  0.347957 -0.570794 -0.253692  0  \n",
       "1 -2.287696  0.263922 -1.299792  0.974767 -1.272066 -0.570794 -0.253692  0  \n",
       "2  0.437121  0.263922 -1.299792  0.974767 -1.272066 -0.570794 -0.253692  0  \n",
       "3  0.437121  0.263922 -1.299792  0.974767  0.347957 -0.570794 -0.253692  0  \n",
       "4  0.437121  0.263922 -1.299792  0.974767 -0.462055 -0.570794 -0.253692  0  "
      ]
     },
     "execution_count": 141,
     "metadata": {},
     "output_type": "execute_result"
    }
   ],
   "source": [
    "# encode dataset\n",
    "\n",
    "imb_df = preprocessing(bank_full_df)\n",
    "imb_df.head()"
   ]
  },
  {
   "cell_type": "markdown",
   "metadata": {},
   "source": [
    "# 1. KNN model"
   ]
  },
  {
   "cell_type": "code",
   "execution_count": 142,
   "metadata": {},
   "outputs": [
    {
     "name": "stdout",
     "output_type": "stream",
     "text": [
      "Test Accuracy:  0.7240645305848085\n",
      "Test F1 Score:  0.43366291101402615\n",
      "Confusion Matrix on Test Data\n"
     ]
    },
    {
     "data": {
      "text/html": [
       "<div>\n",
       "<style scoped>\n",
       "    .dataframe tbody tr th:only-of-type {\n",
       "        vertical-align: middle;\n",
       "    }\n",
       "\n",
       "    .dataframe tbody tr th {\n",
       "        vertical-align: top;\n",
       "    }\n",
       "\n",
       "    .dataframe thead th {\n",
       "        text-align: right;\n",
       "    }\n",
       "</style>\n",
       "<table border=\"1\" class=\"dataframe\">\n",
       "  <thead>\n",
       "    <tr style=\"text-align: right;\">\n",
       "      <th>Predicted</th>\n",
       "      <th>0</th>\n",
       "      <th>1</th>\n",
       "      <th>All</th>\n",
       "    </tr>\n",
       "    <tr>\n",
       "      <th>True</th>\n",
       "      <th></th>\n",
       "      <th></th>\n",
       "      <th></th>\n",
       "    </tr>\n",
       "  </thead>\n",
       "  <tbody>\n",
       "    <tr>\n",
       "      <th>0</th>\n",
       "      <td>5520</td>\n",
       "      <td>2353</td>\n",
       "      <td>7873</td>\n",
       "    </tr>\n",
       "    <tr>\n",
       "      <th>1</th>\n",
       "      <td>110</td>\n",
       "      <td>943</td>\n",
       "      <td>1053</td>\n",
       "    </tr>\n",
       "    <tr>\n",
       "      <th>All</th>\n",
       "      <td>5630</td>\n",
       "      <td>3296</td>\n",
       "      <td>8926</td>\n",
       "    </tr>\n",
       "  </tbody>\n",
       "</table>\n",
       "</div>"
      ],
      "text/plain": [
       "Predicted     0     1   All\n",
       "True                       \n",
       "0          5520  2353  7873\n",
       "1           110   943  1053\n",
       "All        5630  3296  8926"
      ]
     },
     "execution_count": 142,
     "metadata": {},
     "output_type": "execute_result"
    }
   ],
   "source": [
    "from sklearn.model_selection import train_test_split\n",
    "X_imb = imb_df.drop(columns = 'y')\n",
    "y_imb = imb_df.y\n",
    "X_train_imb, X_test_imb, y_train_imb, y_test_imb = train_test_split(X_imb, y_imb, test_size = 0.2, random_state = 42)\n",
    "\n",
    "knn_imb = KNeighborsClassifier(n_neighbors =5, weights= 'uniform', p =1)\n",
    "knn_imb.fit(X_train_imb, y_train_imb)\n",
    "y_pred_imb = model.predict(X_test_imb)\n",
    "\n",
    "print(\"Test Accuracy: \",accuracy_score(y_test_imb,y_pred_imb))\n",
    "print(\"Test F1 Score: \",f1_score(y_test_imb,y_pred_imb))\n",
    "print(\"Confusion Matrix on Test Data\")\n",
    "pd.crosstab(y_test_imb, y_pred_imb, rownames=['True'], colnames=['Predicted'], margins=True)"
   ]
  },
  {
   "cell_type": "markdown",
   "metadata": {},
   "source": [
    "# 2. Decision tree model"
   ]
  },
  {
   "cell_type": "code",
   "execution_count": 85,
   "metadata": {},
   "outputs": [
    {
     "name": "stdout",
     "output_type": "stream",
     "text": [
      "Test Accuracy:  0.8915958873491283\n",
      "Test F1 Score:  0.41776710684273716\n",
      "Confusion Matrix on Test Data\n"
     ]
    },
    {
     "data": {
      "text/html": [
       "<div>\n",
       "<style scoped>\n",
       "    .dataframe tbody tr th:only-of-type {\n",
       "        vertical-align: middle;\n",
       "    }\n",
       "\n",
       "    .dataframe tbody tr th {\n",
       "        vertical-align: top;\n",
       "    }\n",
       "\n",
       "    .dataframe thead th {\n",
       "        text-align: right;\n",
       "    }\n",
       "</style>\n",
       "<table border=\"1\" class=\"dataframe\">\n",
       "  <thead>\n",
       "    <tr style=\"text-align: right;\">\n",
       "      <th>Predicted</th>\n",
       "      <th>0</th>\n",
       "      <th>1</th>\n",
       "      <th>All</th>\n",
       "    </tr>\n",
       "    <tr>\n",
       "      <th>True</th>\n",
       "      <th></th>\n",
       "      <th></th>\n",
       "      <th></th>\n",
       "    </tr>\n",
       "  </thead>\n",
       "  <tbody>\n",
       "    <tr>\n",
       "      <th>0</th>\n",
       "      <td>7630</td>\n",
       "      <td>248</td>\n",
       "      <td>7878</td>\n",
       "    </tr>\n",
       "    <tr>\n",
       "      <th>1</th>\n",
       "      <td>722</td>\n",
       "      <td>348</td>\n",
       "      <td>1070</td>\n",
       "    </tr>\n",
       "    <tr>\n",
       "      <th>All</th>\n",
       "      <td>8352</td>\n",
       "      <td>596</td>\n",
       "      <td>8948</td>\n",
       "    </tr>\n",
       "  </tbody>\n",
       "</table>\n",
       "</div>"
      ],
      "text/plain": [
       "Predicted     0    1   All\n",
       "True                      \n",
       "0          7630  248  7878\n",
       "1           722  348  1070\n",
       "All        8352  596  8948"
      ]
     },
     "execution_count": 85,
     "metadata": {},
     "output_type": "execute_result"
    }
   ],
   "source": [
    "tree_clf_imb = DecisionTreeClassifier(max_depth=7)\n",
    "tree_clf_imb.fit(X_train_imb,y_train_imb)\n",
    "y_pred_imb = tree_clf_imb.predict(X_test_imb)\n",
    "print(\"Test Accuracy: \",accuracy_score(y_test_imb,y_pred_imb))\n",
    "print(\"Test F1 Score: \",f1_score(y_test_imb,y_pred_imb))\n",
    "print(\"Confusion Matrix on Test Data\")\n",
    "pd.crosstab(y_test_imb, y_pred_imb, rownames=['True'], colnames=['Predicted'], margins=True)"
   ]
  },
  {
   "cell_type": "code",
   "execution_count": 97,
   "metadata": {},
   "outputs": [
    {
     "name": "stdout",
     "output_type": "stream",
     "text": [
      "Test Accuracy:  0.8915958873491283\n",
      "Test F1 Score:  0.41776710684273716\n",
      "Confusion Matrix on Test Data\n"
     ]
    },
    {
     "data": {
      "text/html": [
       "<div>\n",
       "<style scoped>\n",
       "    .dataframe tbody tr th:only-of-type {\n",
       "        vertical-align: middle;\n",
       "    }\n",
       "\n",
       "    .dataframe tbody tr th {\n",
       "        vertical-align: top;\n",
       "    }\n",
       "\n",
       "    .dataframe thead th {\n",
       "        text-align: right;\n",
       "    }\n",
       "</style>\n",
       "<table border=\"1\" class=\"dataframe\">\n",
       "  <thead>\n",
       "    <tr style=\"text-align: right;\">\n",
       "      <th>Predicted</th>\n",
       "      <th>0</th>\n",
       "      <th>1</th>\n",
       "      <th>All</th>\n",
       "    </tr>\n",
       "    <tr>\n",
       "      <th>True</th>\n",
       "      <th></th>\n",
       "      <th></th>\n",
       "      <th></th>\n",
       "    </tr>\n",
       "  </thead>\n",
       "  <tbody>\n",
       "    <tr>\n",
       "      <th>0</th>\n",
       "      <td>7630</td>\n",
       "      <td>248</td>\n",
       "      <td>7878</td>\n",
       "    </tr>\n",
       "    <tr>\n",
       "      <th>1</th>\n",
       "      <td>722</td>\n",
       "      <td>348</td>\n",
       "      <td>1070</td>\n",
       "    </tr>\n",
       "    <tr>\n",
       "      <th>All</th>\n",
       "      <td>8352</td>\n",
       "      <td>596</td>\n",
       "      <td>8948</td>\n",
       "    </tr>\n",
       "  </tbody>\n",
       "</table>\n",
       "</div>"
      ],
      "text/plain": [
       "Predicted     0    1   All\n",
       "True                      \n",
       "0          7630  248  7878\n",
       "1           722  348  1070\n",
       "All        8352  596  8948"
      ]
     },
     "execution_count": 97,
     "metadata": {},
     "output_type": "execute_result"
    }
   ],
   "source": [
    "rf_clf_imb = RandomForestClassifier(max_depth=7)\n",
    "rf_clf_imb.fit(X_train_imb,y_train_imb)\n",
    "y_pred = rf_clf.predict(X_test_imb)\n",
    "print(\"Test Accuracy: \",accuracy_score(y_test_imb,y_pred_imb))\n",
    "print(\"Test F1 Score: \",f1_score(y_test_imb,y_pred_imb))\n",
    "print(\"Confusion Matrix on Test Data\")\n",
    "pd.crosstab(y_test_imb, y_pred_imb, rownames=['True'], colnames=['Predicted'], margins=True)"
   ]
  },
  {
   "cell_type": "code",
   "execution_count": 63,
   "metadata": {},
   "outputs": [],
   "source": [
    "class KNeighborClassifier:\n",
    "    def __init__(self, n_neighbor = 5, p = 2):\n",
    "        self.n_neighbor = n_neighbor\n",
    "        self.p = p\n",
    "    def euclidian_distance(self, arr1, arr2):\n",
    "        s = 0\n",
    "        for i in range(len(arr1)):\n",
    "            s += (abs(arr1[i] - arr2[i]))**(self.p)\n",
    "        return s ** (1/float(self.p))\n",
    "    def fit(self, X, y):\n",
    "        self.X = X\n",
    "        self.y = y\n",
    "    def k_neighbor(self, arr):\n",
    "        neighbor = []\n",
    "        for i in range(len(self.X)):\n",
    "            neighbor.append([self.euclidian_distance(self.X[i], arr), i])\n",
    "        neighbor = sorted(neighbor, key = lambda x : x[0])\n",
    "        k_neighbor = []\n",
    "        for i in range(self.n_neighbor):\n",
    "            k_neighbor.append(neighbor[i][1])\n",
    "        return k_neighbor\n",
    "    def p(self, arr):\n",
    "        k_neighbor = self.k_neighbor(arr)\n",
    "        count_yes = 0\n",
    "        count_no = 0\n",
    "        for i in k_neighbor:\n",
    "            if self.y[i] == 1:\n",
    "                count_yes += 1\n",
    "            else:\n",
    "                count_no += 1\n",
    "        if count_yes >= count_no:\n",
    "            return 1\n",
    "        else:\n",
    "            return 0\n",
    "    def predict(self, arr):\n",
    "        if len(arr.shape) == 1:\n",
    "            return [self.p(arr)]\n",
    "        else:\n",
    "            predict_arr = []\n",
    "            for record in arr:\n",
    "                k_neighbor = self.k_neighbor(record)\n",
    "                count_yes = 0\n",
    "                count_no = 0\n",
    "                for i in k_neighbor:\n",
    "                    if self.y[i] == 1:\n",
    "                        count_yes += 1\n",
    "                    else:\n",
    "                        count_no += 1\n",
    "                if count_yes >= count_no:\n",
    "                    predict_arr.append(1) \n",
    "                else:\n",
    "                    predict_arr.append(0)\n",
    "            return predict_arr\n",
    "    def accuracy_score(self, arr1, arr2):\n",
    "        matched = 0\n",
    "        for i in range(len(arr1)):\n",
    "            if arr1[i] == arr2[i]:\n",
    "                matched += 1\n",
    "        return matched/len(arr1)\n",
    "  "
   ]
  },
  {
   "cell_type": "code",
   "execution_count": 64,
   "metadata": {},
   "outputs": [],
   "source": [
    "knn = KNeighborClassifier(n_neighbor=15, p=1)\n",
    "knn.fit(stratified_train.values, y_train.values)\n",
    "y_pred1 = knn.predict(stratified_test.values)"
   ]
  },
  {
   "cell_type": "code",
   "execution_count": null,
   "metadata": {},
   "outputs": [],
   "source": [
    "knn.accuracy_score(y_pred1, y_test.values)"
   ]
  }
 ],
 "metadata": {
  "kernelspec": {
   "display_name": "Python 3",
   "language": "python",
   "name": "python3"
  },
  "language_info": {
   "codemirror_mode": {
    "name": "ipython",
    "version": 3
   },
   "file_extension": ".py",
   "mimetype": "text/x-python",
   "name": "python",
   "nbconvert_exporter": "python",
   "pygments_lexer": "ipython3",
   "version": "3.7.6"
  }
 },
 "nbformat": 4,
 "nbformat_minor": 4
}
