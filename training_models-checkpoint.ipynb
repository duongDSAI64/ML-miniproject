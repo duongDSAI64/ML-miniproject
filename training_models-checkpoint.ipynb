{
 "cells": [
  {
   "cell_type": "code",
   "execution_count": 1,
   "metadata": {},
   "outputs": [],
   "source": [
    "import warnings\n",
    "warnings.filterwarnings(\"ignore\")"
   ]
  },
  {
   "cell_type": "code",
   "execution_count": 2,
   "metadata": {},
   "outputs": [
    {
     "data": {
      "text/html": [
       "<div>\n",
       "<style scoped>\n",
       "    .dataframe tbody tr th:only-of-type {\n",
       "        vertical-align: middle;\n",
       "    }\n",
       "\n",
       "    .dataframe tbody tr th {\n",
       "        vertical-align: top;\n",
       "    }\n",
       "\n",
       "    .dataframe thead th {\n",
       "        text-align: right;\n",
       "    }\n",
       "</style>\n",
       "<table border=\"1\" class=\"dataframe\">\n",
       "  <thead>\n",
       "    <tr style=\"text-align: right;\">\n",
       "      <th></th>\n",
       "      <th>age</th>\n",
       "      <th>job</th>\n",
       "      <th>marital</th>\n",
       "      <th>education</th>\n",
       "      <th>default</th>\n",
       "      <th>balance</th>\n",
       "      <th>housing</th>\n",
       "      <th>loan</th>\n",
       "      <th>contact</th>\n",
       "      <th>day</th>\n",
       "      <th>month</th>\n",
       "      <th>duration</th>\n",
       "      <th>campaign</th>\n",
       "      <th>previous</th>\n",
       "      <th>y</th>\n",
       "    </tr>\n",
       "  </thead>\n",
       "  <tbody>\n",
       "    <tr>\n",
       "      <th>0</th>\n",
       "      <td>-1.318306</td>\n",
       "      <td>0.666776</td>\n",
       "      <td>0.783247</td>\n",
       "      <td>0.838327</td>\n",
       "      <td>0.124435</td>\n",
       "      <td>-0.177005</td>\n",
       "      <td>0.953735</td>\n",
       "      <td>0.392021</td>\n",
       "      <td>0.265314</td>\n",
       "      <td>-1.590664</td>\n",
       "      <td>-0.335031</td>\n",
       "      <td>0.711884</td>\n",
       "      <td>-0.742383</td>\n",
       "      <td>-0.435995</td>\n",
       "      <td>1</td>\n",
       "    </tr>\n",
       "    <tr>\n",
       "      <th>1</th>\n",
       "      <td>-0.044563</td>\n",
       "      <td>0.295264</td>\n",
       "      <td>0.783247</td>\n",
       "      <td>0.838327</td>\n",
       "      <td>0.124435</td>\n",
       "      <td>-0.716348</td>\n",
       "      <td>-1.048509</td>\n",
       "      <td>0.392021</td>\n",
       "      <td>0.265314</td>\n",
       "      <td>-0.397998</td>\n",
       "      <td>1.048047</td>\n",
       "      <td>-0.813786</td>\n",
       "      <td>1.070334</td>\n",
       "      <td>-0.435995</td>\n",
       "      <td>0</td>\n",
       "    </tr>\n",
       "    <tr>\n",
       "      <th>2</th>\n",
       "      <td>-0.044563</td>\n",
       "      <td>0.666776</td>\n",
       "      <td>0.783247</td>\n",
       "      <td>0.838327</td>\n",
       "      <td>0.124435</td>\n",
       "      <td>-0.334176</td>\n",
       "      <td>0.953735</td>\n",
       "      <td>0.392021</td>\n",
       "      <td>0.265314</td>\n",
       "      <td>-0.875065</td>\n",
       "      <td>0.702278</td>\n",
       "      <td>-0.050951</td>\n",
       "      <td>2.278813</td>\n",
       "      <td>-0.435995</td>\n",
       "      <td>0</td>\n",
       "    </tr>\n",
       "    <tr>\n",
       "      <th>3</th>\n",
       "      <td>1.229180</td>\n",
       "      <td>1.038289</td>\n",
       "      <td>0.783247</td>\n",
       "      <td>-1.954789</td>\n",
       "      <td>0.124435</td>\n",
       "      <td>0.122446</td>\n",
       "      <td>0.953735</td>\n",
       "      <td>0.392021</td>\n",
       "      <td>0.265314</td>\n",
       "      <td>1.510268</td>\n",
       "      <td>-2.409649</td>\n",
       "      <td>-1.576621</td>\n",
       "      <td>-0.742383</td>\n",
       "      <td>-0.435995</td>\n",
       "      <td>0</td>\n",
       "    </tr>\n",
       "    <tr>\n",
       "      <th>4</th>\n",
       "      <td>-1.318306</td>\n",
       "      <td>1.038289</td>\n",
       "      <td>-0.659612</td>\n",
       "      <td>-0.558231</td>\n",
       "      <td>0.124435</td>\n",
       "      <td>-0.668921</td>\n",
       "      <td>-1.048509</td>\n",
       "      <td>0.392021</td>\n",
       "      <td>0.265314</td>\n",
       "      <td>-0.994331</td>\n",
       "      <td>1.048047</td>\n",
       "      <td>-1.576621</td>\n",
       "      <td>-0.742383</td>\n",
       "      <td>-0.435995</td>\n",
       "      <td>0</td>\n",
       "    </tr>\n",
       "  </tbody>\n",
       "</table>\n",
       "</div>"
      ],
      "text/plain": [
       "        age       job   marital  education   default   balance   housing  \\\n",
       "0 -1.318306  0.666776  0.783247   0.838327  0.124435 -0.177005  0.953735   \n",
       "1 -0.044563  0.295264  0.783247   0.838327  0.124435 -0.716348 -1.048509   \n",
       "2 -0.044563  0.666776  0.783247   0.838327  0.124435 -0.334176  0.953735   \n",
       "3  1.229180  1.038289  0.783247  -1.954789  0.124435  0.122446  0.953735   \n",
       "4 -1.318306  1.038289 -0.659612  -0.558231  0.124435 -0.668921 -1.048509   \n",
       "\n",
       "       loan   contact       day     month  duration  campaign  previous  y  \n",
       "0  0.392021  0.265314 -1.590664 -0.335031  0.711884 -0.742383 -0.435995  1  \n",
       "1  0.392021  0.265314 -0.397998  1.048047 -0.813786  1.070334 -0.435995  0  \n",
       "2  0.392021  0.265314 -0.875065  0.702278 -0.050951  2.278813 -0.435995  0  \n",
       "3  0.392021  0.265314  1.510268 -2.409649 -1.576621 -0.742383 -0.435995  0  \n",
       "4  0.392021  0.265314 -0.994331  1.048047 -1.576621 -0.742383 -0.435995  0  "
      ]
     },
     "execution_count": 2,
     "metadata": {},
     "output_type": "execute_result"
    }
   ],
   "source": [
    "import numpy as np\n",
    "import pandas as pd\n",
    "import matplotlib.pyplot as plt\n",
    "import seaborn as sns\n",
    "from sklearn.model_selection import train_test_split\n",
    "\n",
    "df = pd.read_csv(r'C:\\Users\\chau\\encoded_data.csv', encoding='Latin-1')\n",
    "df.head()"
   ]
  },
  {
   "cell_type": "code",
   "execution_count": 4,
   "metadata": {},
   "outputs": [],
   "source": [
    "\n",
    "from sklearn.model_selection import StratifiedShuffleSplit\n",
    "# Here we split the data into training and test sets and implement a stratified shuffle split.\n",
    "stratified = StratifiedShuffleSplit(n_splits=1, test_size=0.2, random_state=42)\n",
    "X = df.drop(columns='y')\n",
    "y = df.y\n",
    "\n",
    "for train_set, test_set in stratified.split(X, X[\"loan\"]):\n",
    "    stratified_train = X.loc[train_set]\n",
    "    stratified_test = X.loc[test_set]\n",
    "    \n",
    "stratified_train[\"loan\"].value_counts()/len(stratified_train)\n",
    "stratified_train.reset_index(drop = 1)\n",
    "y_train = y[stratified_train.index]\n",
    "y_test = y[stratified_test.index]\n",
    "\n",
    "train = pd.concat([stratified_train, y_train], axis= 1)\n",
    "test = pd.concat([stratified_test, y_test], axis= 1)"
   ]
  },
  {
   "cell_type": "code",
   "execution_count": 5,
   "metadata": {},
   "outputs": [],
   "source": [
    "train.to_csv(r'C:/Users/chau/Desktop/ML-miniproject/train_set.csv', index = False, header = True)\n",
    "test.to_csv(r'C:/Users/chau/Desktop/ML-miniproject/test_set.csv', index = False, header = True)"
   ]
  },
  {
   "cell_type": "code",
   "execution_count": 16,
   "metadata": {},
   "outputs": [],
   "source": [
    "X = df.drop(columns='y')\n",
    "y = df.y"
   ]
  },
  {
   "cell_type": "code",
   "execution_count": 12,
   "metadata": {},
   "outputs": [],
   "source": [
    "bank_full = pd.read_csv(r'C:/Users/chau/Desktop/ML-miniproject/bank-full-encoded.csv', encoding= 'Latin-1')\n",
    "X_imb = bank_full.drop(columns = 'y')\n",
    "y_imb = bank_full.y\n",
    "\n",
    "X_train_imb, X_test_imb, y_train_imb, y_test_imb = train_test_split(X_imb, y_imb, test_size = 0.2, random_state = 42)"
   ]
  },
  {
   "cell_type": "code",
   "execution_count": 36,
   "metadata": {},
   "outputs": [],
   "source": [
    "train_set_imb = pd.concat([X_train_imb, y_train_imb], axis=1)\n",
    "test_set_imb = pd.concat([X_test_imb, y_test_imb], axis = 1)\n",
    "train_set_imb.to_csv(r'C:/Users/chau/Desktop/ML-miniproject/train_set_imb.csv', index = False, header = True)\n",
    "test_set_imb.to_csv(r'C:/Users/chau/Desktop/ML-miniproject/test_set_imb.csv', index = False, header = True)"
   ]
  },
  {
   "cell_type": "markdown",
   "metadata": {},
   "source": [
    "# 1. KNN model"
   ]
  },
  {
   "cell_type": "code",
   "execution_count": 7,
   "metadata": {
    "scrolled": false
   },
   "outputs": [
    {
     "data": {
      "image/png": "[encoded data removed]",
      "text/plain": [
       "<Figure size 720x360 with 1 Axes>"
      ]
     },
     "metadata": {
      "needs_background": "light"
     },
     "output_type": "display_data"
    }
   ],
   "source": [
    "from sklearn.neighbors import KNeighborsClassifier\n",
    "from sklearn.metrics import f1_score, accuracy_score\n",
    "from sklearn.model_selection import cross_val_score\n",
    "from sklearn.model_selection import StratifiedKFold\n",
    "val_accuracy = []\n",
    "val_f1 = []\n",
    "k_neighbors = []\n",
    "for k in range(1,30,2):\n",
    "    model = KNeighborsClassifier(n_neighbors=k, weights='uniform', p = 1)\n",
    "    kf = StratifiedKFold(n_splits=10, shuffle = True, random_state=1)\n",
    "    val_accuracy.append(cross_val_score(model, X, y, scoring= 'accuracy', cv = kf).mean())\n",
    "    val_f1.append(cross_val_score(model, X, y, scoring= 'f1_macro', cv = kf).mean())\n",
    "    k_neighbors.append(k)\n",
    "\n",
    "plt.subplots(figsize = (10,5))\n",
    "plt.plot(k_neighbors, val_accuracy,'-ok', label = 'validation_accuracy', color = 'orange')\n",
    "plt.plot(k_neighbors, val_f1,'-ok', label = 'validation_f1', color = 'red')\n",
    "plt.title('Accuracy')\n",
    "plt.xlabel(\"k_neighbors\")\n",
    "plt.ylabel(\"values\")\n",
    "plt.xticks(k_neighbors)\n",
    "plt.legend()\n",
    "plt.show()"
   ]
  },
  {
   "cell_type": "code",
   "execution_count": 8,
   "metadata": {},
   "outputs": [],
   "source": [
    "import pickle\n",
    "model = KNeighborsClassifier(n_neighbors= 15, weights= 'uniform', p = 1)\n",
    "model.fit(stratified_train, y_train)\n",
    "filename = r'C:\\Users\\chau\\Desktop\\ML-miniproject\\knn_model.sav'\n",
    "pickle.dump(model, open(filename,'wb'))"
   ]
  },
  {
   "cell_type": "code",
   "execution_count": 13,
   "metadata": {},
   "outputs": [],
   "source": [
    "model_imb = KNeighborsClassifier(n_neighbors=15, weights='uniform', p = 1)\n",
    "model_imb.fit(X_train_imb, y_train_imb)\n",
    "pickle.dump(model_imb, open(r'C:\\Users\\chau\\Desktop\\ML-miniproject\\knn_model_imb.sav', 'wb'))"
   ]
  },
  {
   "cell_type": "markdown",
   "metadata": {},
   "source": [
    "# 2. Decision tree model"
   ]
  },
  {
   "cell_type": "code",
   "execution_count": 14,
   "metadata": {},
   "outputs": [
    {
     "data": {
      "image/png": "[encoded data removed]",
      "text/plain": [
       "<Figure size 720x360 with 1 Axes>"
      ]
     },
     "metadata": {
      "needs_background": "light"
     },
     "output_type": "display_data"
    }
   ],
   "source": [
    "from sklearn.tree import DecisionTreeClassifier\n",
    "val_accuracy = []\n",
    "val_f1 = []\n",
    "tree_depths = []\n",
    "\n",
    "for depth in range(1,20):\n",
    "    tree_clf = DecisionTreeClassifier(max_depth=depth)\n",
    "    kf = StratifiedKFold(n_splits=10, shuffle = True, random_state=1)\n",
    "    val_accuracy.append(cross_val_score(tree_clf, X, y, scoring= 'accuracy', cv = kf).mean())\n",
    "    val_f1.append(cross_val_score(tree_clf, stratified_train, y_train, scoring= 'f1_macro', cv = kf).mean())\n",
    "    tree_depths.append(depth)\n",
    "    \n",
    "\n",
    "plt.subplots(figsize = (10,5))\n",
    "plt.plot(tree_depths, val_accuracy,'-ok', label = 'validation_accuracy', color = 'orange')\n",
    "plt.plot(tree_depths, val_f1,'-ok', label = 'validation_f1', color = 'red')\n",
    "plt.title('Accuracy')\n",
    "plt.xlabel(\"tree_depth\")\n",
    "plt.ylabel(\"values\")\n",
    "plt.xticks(k_neighbors)\n",
    "plt.legend()\n",
    "plt.show()"
   ]
  },
  {
   "cell_type": "code",
   "execution_count": 15,
   "metadata": {},
   "outputs": [],
   "source": [
    "#from the graph above we see max_depth = 7 produces the best result\n",
    "\n",
    "import pickle\n",
    "tree_clf = DecisionTreeClassifier(max_depth=7)\n",
    "tree_clf.fit(stratified_train, y_train)\n",
    "filename = r'C:\\Users\\chau\\Desktop\\ML-miniproject\\dc_model.sav'\n",
    "pickle.dump(tree_clf, open(filename,'wb'))"
   ]
  },
  {
   "cell_type": "code",
   "execution_count": 17,
   "metadata": {},
   "outputs": [],
   "source": [
    "tree_clf_imb = DecisionTreeClassifier(max_depth=7)\n",
    "tree_clf_imb.fit(X_train_imb, y_train_imb)\n",
    "pickle.dump(tree_clf_imb, open(r'C:\\Users\\chau\\Desktop\\ML-miniproject\\dc_model_imb.sav','wb'))"
   ]
  }
 ],
 "metadata": {
  "kernelspec": {
   "display_name": "Python 3",
   "language": "python",
   "name": "python3"
  },
  "language_info": {
   "codemirror_mode": {
    "name": "ipython",
    "version": 3
   },
   "file_extension": ".py",
   "mimetype": "text/x-python",
   "name": "python",
   "nbconvert_exporter": "python",
   "pygments_lexer": "ipython3",
   "version": "3.8.5"
  }
 },
 "nbformat": 4,
 "nbformat_minor": 4
}
