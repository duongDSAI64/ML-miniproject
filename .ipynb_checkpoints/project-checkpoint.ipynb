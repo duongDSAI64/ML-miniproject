{
 "cells": [
  {
   "cell_type": "markdown",
   "metadata": {},
   "source": [
    "# data overview"
   ]
  },
  {
   "cell_type": "code",
   "execution_count": 1,
   "metadata": {},
   "outputs": [
    {
     "data": {
      "text/html": [
       "<div>\n",
       "<style scoped>\n",
       "    .dataframe tbody tr th:only-of-type {\n",
       "        vertical-align: middle;\n",
       "    }\n",
       "\n",
       "    .dataframe tbody tr th {\n",
       "        vertical-align: top;\n",
       "    }\n",
       "\n",
       "    .dataframe thead th {\n",
       "        text-align: right;\n",
       "    }\n",
       "</style>\n",
       "<table border=\"1\" class=\"dataframe\">\n",
       "  <thead>\n",
       "    <tr style=\"text-align: right;\">\n",
       "      <th></th>\n",
       "      <th>age</th>\n",
       "      <th>job</th>\n",
       "      <th>marital</th>\n",
       "      <th>education</th>\n",
       "      <th>default</th>\n",
       "      <th>balance</th>\n",
       "      <th>housing</th>\n",
       "      <th>loan</th>\n",
       "      <th>contact</th>\n",
       "      <th>day</th>\n",
       "      <th>month</th>\n",
       "      <th>duration</th>\n",
       "      <th>campaign</th>\n",
       "      <th>pdays</th>\n",
       "      <th>previous</th>\n",
       "      <th>poutcome</th>\n",
       "      <th>y</th>\n",
       "    </tr>\n",
       "  </thead>\n",
       "  <tbody>\n",
       "    <tr>\n",
       "      <th>0</th>\n",
       "      <td>58</td>\n",
       "      <td>management</td>\n",
       "      <td>married</td>\n",
       "      <td>tertiary</td>\n",
       "      <td>no</td>\n",
       "      <td>2143</td>\n",
       "      <td>yes</td>\n",
       "      <td>no</td>\n",
       "      <td>unknown</td>\n",
       "      <td>5</td>\n",
       "      <td>may</td>\n",
       "      <td>261</td>\n",
       "      <td>1</td>\n",
       "      <td>-1</td>\n",
       "      <td>0</td>\n",
       "      <td>unknown</td>\n",
       "      <td>no</td>\n",
       "    </tr>\n",
       "    <tr>\n",
       "      <th>1</th>\n",
       "      <td>44</td>\n",
       "      <td>technician</td>\n",
       "      <td>single</td>\n",
       "      <td>secondary</td>\n",
       "      <td>no</td>\n",
       "      <td>29</td>\n",
       "      <td>yes</td>\n",
       "      <td>no</td>\n",
       "      <td>unknown</td>\n",
       "      <td>5</td>\n",
       "      <td>may</td>\n",
       "      <td>151</td>\n",
       "      <td>1</td>\n",
       "      <td>-1</td>\n",
       "      <td>0</td>\n",
       "      <td>unknown</td>\n",
       "      <td>no</td>\n",
       "    </tr>\n",
       "    <tr>\n",
       "      <th>2</th>\n",
       "      <td>33</td>\n",
       "      <td>entrepreneur</td>\n",
       "      <td>married</td>\n",
       "      <td>secondary</td>\n",
       "      <td>no</td>\n",
       "      <td>2</td>\n",
       "      <td>yes</td>\n",
       "      <td>yes</td>\n",
       "      <td>unknown</td>\n",
       "      <td>5</td>\n",
       "      <td>may</td>\n",
       "      <td>76</td>\n",
       "      <td>1</td>\n",
       "      <td>-1</td>\n",
       "      <td>0</td>\n",
       "      <td>unknown</td>\n",
       "      <td>no</td>\n",
       "    </tr>\n",
       "    <tr>\n",
       "      <th>3</th>\n",
       "      <td>47</td>\n",
       "      <td>blue-collar</td>\n",
       "      <td>married</td>\n",
       "      <td>unknown</td>\n",
       "      <td>no</td>\n",
       "      <td>1506</td>\n",
       "      <td>yes</td>\n",
       "      <td>no</td>\n",
       "      <td>unknown</td>\n",
       "      <td>5</td>\n",
       "      <td>may</td>\n",
       "      <td>92</td>\n",
       "      <td>1</td>\n",
       "      <td>-1</td>\n",
       "      <td>0</td>\n",
       "      <td>unknown</td>\n",
       "      <td>no</td>\n",
       "    </tr>\n",
       "    <tr>\n",
       "      <th>4</th>\n",
       "      <td>33</td>\n",
       "      <td>unknown</td>\n",
       "      <td>single</td>\n",
       "      <td>unknown</td>\n",
       "      <td>no</td>\n",
       "      <td>1</td>\n",
       "      <td>no</td>\n",
       "      <td>no</td>\n",
       "      <td>unknown</td>\n",
       "      <td>5</td>\n",
       "      <td>may</td>\n",
       "      <td>198</td>\n",
       "      <td>1</td>\n",
       "      <td>-1</td>\n",
       "      <td>0</td>\n",
       "      <td>unknown</td>\n",
       "      <td>no</td>\n",
       "    </tr>\n",
       "    <tr>\n",
       "      <th>...</th>\n",
       "      <td>...</td>\n",
       "      <td>...</td>\n",
       "      <td>...</td>\n",
       "      <td>...</td>\n",
       "      <td>...</td>\n",
       "      <td>...</td>\n",
       "      <td>...</td>\n",
       "      <td>...</td>\n",
       "      <td>...</td>\n",
       "      <td>...</td>\n",
       "      <td>...</td>\n",
       "      <td>...</td>\n",
       "      <td>...</td>\n",
       "      <td>...</td>\n",
       "      <td>...</td>\n",
       "      <td>...</td>\n",
       "      <td>...</td>\n",
       "    </tr>\n",
       "    <tr>\n",
       "      <th>45206</th>\n",
       "      <td>51</td>\n",
       "      <td>technician</td>\n",
       "      <td>married</td>\n",
       "      <td>tertiary</td>\n",
       "      <td>no</td>\n",
       "      <td>825</td>\n",
       "      <td>no</td>\n",
       "      <td>no</td>\n",
       "      <td>cellular</td>\n",
       "      <td>17</td>\n",
       "      <td>nov</td>\n",
       "      <td>977</td>\n",
       "      <td>3</td>\n",
       "      <td>-1</td>\n",
       "      <td>0</td>\n",
       "      <td>unknown</td>\n",
       "      <td>yes</td>\n",
       "    </tr>\n",
       "    <tr>\n",
       "      <th>45207</th>\n",
       "      <td>71</td>\n",
       "      <td>retired</td>\n",
       "      <td>divorced</td>\n",
       "      <td>primary</td>\n",
       "      <td>no</td>\n",
       "      <td>1729</td>\n",
       "      <td>no</td>\n",
       "      <td>no</td>\n",
       "      <td>cellular</td>\n",
       "      <td>17</td>\n",
       "      <td>nov</td>\n",
       "      <td>456</td>\n",
       "      <td>2</td>\n",
       "      <td>-1</td>\n",
       "      <td>0</td>\n",
       "      <td>unknown</td>\n",
       "      <td>yes</td>\n",
       "    </tr>\n",
       "    <tr>\n",
       "      <th>45208</th>\n",
       "      <td>72</td>\n",
       "      <td>retired</td>\n",
       "      <td>married</td>\n",
       "      <td>secondary</td>\n",
       "      <td>no</td>\n",
       "      <td>5715</td>\n",
       "      <td>no</td>\n",
       "      <td>no</td>\n",
       "      <td>cellular</td>\n",
       "      <td>17</td>\n",
       "      <td>nov</td>\n",
       "      <td>1127</td>\n",
       "      <td>5</td>\n",
       "      <td>184</td>\n",
       "      <td>3</td>\n",
       "      <td>success</td>\n",
       "      <td>yes</td>\n",
       "    </tr>\n",
       "    <tr>\n",
       "      <th>45209</th>\n",
       "      <td>57</td>\n",
       "      <td>blue-collar</td>\n",
       "      <td>married</td>\n",
       "      <td>secondary</td>\n",
       "      <td>no</td>\n",
       "      <td>668</td>\n",
       "      <td>no</td>\n",
       "      <td>no</td>\n",
       "      <td>telephone</td>\n",
       "      <td>17</td>\n",
       "      <td>nov</td>\n",
       "      <td>508</td>\n",
       "      <td>4</td>\n",
       "      <td>-1</td>\n",
       "      <td>0</td>\n",
       "      <td>unknown</td>\n",
       "      <td>no</td>\n",
       "    </tr>\n",
       "    <tr>\n",
       "      <th>45210</th>\n",
       "      <td>37</td>\n",
       "      <td>entrepreneur</td>\n",
       "      <td>married</td>\n",
       "      <td>secondary</td>\n",
       "      <td>no</td>\n",
       "      <td>2971</td>\n",
       "      <td>no</td>\n",
       "      <td>no</td>\n",
       "      <td>cellular</td>\n",
       "      <td>17</td>\n",
       "      <td>nov</td>\n",
       "      <td>361</td>\n",
       "      <td>2</td>\n",
       "      <td>188</td>\n",
       "      <td>11</td>\n",
       "      <td>other</td>\n",
       "      <td>no</td>\n",
       "    </tr>\n",
       "  </tbody>\n",
       "</table>\n",
       "<p>45211 rows × 17 columns</p>\n",
       "</div>"
      ],
      "text/plain": [
       "       age           job   marital  education default  balance housing loan  \\\n",
       "0       58    management   married   tertiary      no     2143     yes   no   \n",
       "1       44    technician    single  secondary      no       29     yes   no   \n",
       "2       33  entrepreneur   married  secondary      no        2     yes  yes   \n",
       "3       47   blue-collar   married    unknown      no     1506     yes   no   \n",
       "4       33       unknown    single    unknown      no        1      no   no   \n",
       "...    ...           ...       ...        ...     ...      ...     ...  ...   \n",
       "45206   51    technician   married   tertiary      no      825      no   no   \n",
       "45207   71       retired  divorced    primary      no     1729      no   no   \n",
       "45208   72       retired   married  secondary      no     5715      no   no   \n",
       "45209   57   blue-collar   married  secondary      no      668      no   no   \n",
       "45210   37  entrepreneur   married  secondary      no     2971      no   no   \n",
       "\n",
       "         contact  day month  duration  campaign  pdays  previous poutcome    y  \n",
       "0        unknown    5   may       261         1     -1         0  unknown   no  \n",
       "1        unknown    5   may       151         1     -1         0  unknown   no  \n",
       "2        unknown    5   may        76         1     -1         0  unknown   no  \n",
       "3        unknown    5   may        92         1     -1         0  unknown   no  \n",
       "4        unknown    5   may       198         1     -1         0  unknown   no  \n",
       "...          ...  ...   ...       ...       ...    ...       ...      ...  ...  \n",
       "45206   cellular   17   nov       977         3     -1         0  unknown  yes  \n",
       "45207   cellular   17   nov       456         2     -1         0  unknown  yes  \n",
       "45208   cellular   17   nov      1127         5    184         3  success  yes  \n",
       "45209  telephone   17   nov       508         4     -1         0  unknown   no  \n",
       "45210   cellular   17   nov       361         2    188        11    other   no  \n",
       "\n",
       "[45211 rows x 17 columns]"
      ]
     },
     "execution_count": 1,
     "metadata": {},
     "output_type": "execute_result"
    }
   ],
   "source": [
    "import numpy as np\n",
    "import pandas as pd\n",
    "import matplotlib.pyplot as plt\n",
    "import seaborn as sns\n",
    "\n",
    "bank_full_df = pd.read_csv(r\"C:\\Users\\chau\\PycharmProjects\\newproject\\bank-full.csv\", encoding = \"Latin-1\")\n",
    "bank_full_df"
   ]
  },
  {
   "cell_type": "code",
   "execution_count": 2,
   "metadata": {
    "scrolled": true
   },
   "outputs": [
    {
     "data": {
      "text/plain": [
       "no     39922\n",
       "yes     5289\n",
       "Name: y, dtype: int64"
      ]
     },
     "execution_count": 2,
     "metadata": {},
     "output_type": "execute_result"
    }
   ],
   "source": [
    "bank_full_df.y.value_counts()"
   ]
  },
  {
   "cell_type": "code",
   "execution_count": 3,
   "metadata": {},
   "outputs": [
    {
     "data": {
      "text/plain": [
       "<AxesSubplot:title={'center':'deposit'}, ylabel='result'>"
      ]
     },
     "execution_count": 3,
     "metadata": {},
     "output_type": "execute_result"
    },
    {
     "data": {
      "image/png": "[encoded data removed]",
      "text/plain": [
       "<Figure size 720x432 with 1 Axes>"
      ]
     },
     "metadata": {},
     "output_type": "display_data"
    }
   ],
   "source": [
    "data = bank_full_df.y.value_counts()\n",
    "data.plot.pie(figsize=(10,6), ylabel = 'result', fontsize = 14, autopct='%1.2f%%', title = 'deposit', explode=[0,0.25])"
   ]
  },
  {
   "cell_type": "markdown",
   "metadata": {},
   "source": [
    ">the class label is highly imbalance, over will balance it by undersampling"
   ]
  },
  {
   "cell_type": "code",
   "execution_count": 4,
   "metadata": {},
   "outputs": [],
   "source": [
    "from sklearn.utils import shuffle"
   ]
  },
  {
   "cell_type": "code",
   "execution_count": 39,
   "metadata": {},
   "outputs": [
    {
     "data": {
      "text/html": [
       "<div>\n",
       "<style scoped>\n",
       "    .dataframe tbody tr th:only-of-type {\n",
       "        vertical-align: middle;\n",
       "    }\n",
       "\n",
       "    .dataframe tbody tr th {\n",
       "        vertical-align: top;\n",
       "    }\n",
       "\n",
       "    .dataframe thead th {\n",
       "        text-align: right;\n",
       "    }\n",
       "</style>\n",
       "<table border=\"1\" class=\"dataframe\">\n",
       "  <thead>\n",
       "    <tr style=\"text-align: right;\">\n",
       "      <th></th>\n",
       "      <th>age</th>\n",
       "      <th>job</th>\n",
       "      <th>marital</th>\n",
       "      <th>education</th>\n",
       "      <th>default</th>\n",
       "      <th>balance</th>\n",
       "      <th>housing</th>\n",
       "      <th>loan</th>\n",
       "      <th>contact</th>\n",
       "      <th>day</th>\n",
       "      <th>month</th>\n",
       "      <th>duration</th>\n",
       "      <th>campaign</th>\n",
       "      <th>pdays</th>\n",
       "      <th>previous</th>\n",
       "      <th>poutcome</th>\n",
       "      <th>y</th>\n",
       "    </tr>\n",
       "  </thead>\n",
       "  <tbody>\n",
       "    <tr>\n",
       "      <th>0</th>\n",
       "      <td>26</td>\n",
       "      <td>technician</td>\n",
       "      <td>married</td>\n",
       "      <td>secondary</td>\n",
       "      <td>no</td>\n",
       "      <td>915</td>\n",
       "      <td>no</td>\n",
       "      <td>no</td>\n",
       "      <td>cellular</td>\n",
       "      <td>2</td>\n",
       "      <td>jun</td>\n",
       "      <td>384</td>\n",
       "      <td>1</td>\n",
       "      <td>-1</td>\n",
       "      <td>0</td>\n",
       "      <td>unknown</td>\n",
       "      <td>yes</td>\n",
       "    </tr>\n",
       "    <tr>\n",
       "      <th>1</th>\n",
       "      <td>43</td>\n",
       "      <td>blue-collar</td>\n",
       "      <td>married</td>\n",
       "      <td>secondary</td>\n",
       "      <td>no</td>\n",
       "      <td>-63</td>\n",
       "      <td>yes</td>\n",
       "      <td>no</td>\n",
       "      <td>unknown</td>\n",
       "      <td>12</td>\n",
       "      <td>may</td>\n",
       "      <td>160</td>\n",
       "      <td>4</td>\n",
       "      <td>-1</td>\n",
       "      <td>0</td>\n",
       "      <td>unknown</td>\n",
       "      <td>no</td>\n",
       "    </tr>\n",
       "    <tr>\n",
       "      <th>2</th>\n",
       "      <td>37</td>\n",
       "      <td>technician</td>\n",
       "      <td>married</td>\n",
       "      <td>secondary</td>\n",
       "      <td>no</td>\n",
       "      <td>630</td>\n",
       "      <td>no</td>\n",
       "      <td>no</td>\n",
       "      <td>cellular</td>\n",
       "      <td>8</td>\n",
       "      <td>aug</td>\n",
       "      <td>241</td>\n",
       "      <td>6</td>\n",
       "      <td>-1</td>\n",
       "      <td>0</td>\n",
       "      <td>unknown</td>\n",
       "      <td>no</td>\n",
       "    </tr>\n",
       "    <tr>\n",
       "      <th>3</th>\n",
       "      <td>50</td>\n",
       "      <td>management</td>\n",
       "      <td>married</td>\n",
       "      <td>primary</td>\n",
       "      <td>no</td>\n",
       "      <td>1458</td>\n",
       "      <td>no</td>\n",
       "      <td>no</td>\n",
       "      <td>cellular</td>\n",
       "      <td>28</td>\n",
       "      <td>jan</td>\n",
       "      <td>92</td>\n",
       "      <td>1</td>\n",
       "      <td>-1</td>\n",
       "      <td>0</td>\n",
       "      <td>unknown</td>\n",
       "      <td>no</td>\n",
       "    </tr>\n",
       "    <tr>\n",
       "      <th>4</th>\n",
       "      <td>31</td>\n",
       "      <td>management</td>\n",
       "      <td>single</td>\n",
       "      <td>tertiary</td>\n",
       "      <td>no</td>\n",
       "      <td>23</td>\n",
       "      <td>yes</td>\n",
       "      <td>no</td>\n",
       "      <td>cellular</td>\n",
       "      <td>7</td>\n",
       "      <td>may</td>\n",
       "      <td>98</td>\n",
       "      <td>1</td>\n",
       "      <td>-1</td>\n",
       "      <td>0</td>\n",
       "      <td>unknown</td>\n",
       "      <td>no</td>\n",
       "    </tr>\n",
       "  </tbody>\n",
       "</table>\n",
       "</div>"
      ],
      "text/plain": [
       "   age          job  marital  education default  balance housing loan  \\\n",
       "0   26   technician  married  secondary      no      915      no   no   \n",
       "1   43  blue-collar  married  secondary      no      -63     yes   no   \n",
       "2   37   technician  married  secondary      no      630      no   no   \n",
       "3   50   management  married    primary      no     1458      no   no   \n",
       "4   31   management   single   tertiary      no       23     yes   no   \n",
       "\n",
       "    contact  day month  duration  campaign  pdays  previous poutcome    y  \n",
       "0  cellular    2   jun       384         1     -1         0  unknown  yes  \n",
       "1   unknown   12   may       160         4     -1         0  unknown   no  \n",
       "2  cellular    8   aug       241         6     -1         0  unknown   no  \n",
       "3  cellular   28   jan        92         1     -1         0  unknown   no  \n",
       "4  cellular    7   may        98         1     -1         0  unknown   no  "
      ]
     },
     "execution_count": 39,
     "metadata": {},
     "output_type": "execute_result"
    }
   ],
   "source": [
    "# from domain specific knowledge, we balance data by taking 11162 examples and keep all the 'yes' class label\n",
    "bank_yes = bank_full_df.loc[bank_full_df.y == 'yes']\n",
    "bank_no = bank_full_df.loc[bank_full_df.y == 'no'].sample(n = 11162 - 5289)\n",
    "new_df = shuffle(pd.concat([bank_yes, bank_no])).reset_index(drop = 1)\n",
    "new_df.head()"
   ]
  },
  {
   "cell_type": "code",
   "execution_count": 6,
   "metadata": {
    "scrolled": true
   },
   "outputs": [
    {
     "data": {
      "text/plain": [
       "no     5873\n",
       "yes    5289\n",
       "Name: y, dtype: int64"
      ]
     },
     "execution_count": 6,
     "metadata": {},
     "output_type": "execute_result"
    }
   ],
   "source": [
    "new_df.y.value_counts()"
   ]
  },
  {
   "cell_type": "code",
   "execution_count": 40,
   "metadata": {},
   "outputs": [
    {
     "data": {
      "text/plain": [
       "<AxesSubplot:title={'center':'deposit'}, ylabel='result'>"
      ]
     },
     "execution_count": 40,
     "metadata": {},
     "output_type": "execute_result"
    },
    {
     "data": {
      "image/png": "[encoded data removed]",
      "text/plain": [
       "<Figure size 720x432 with 1 Axes>"
      ]
     },
     "metadata": {},
     "output_type": "display_data"
    }
   ],
   "source": [
    "data = new_df.y.value_counts()\n",
    "data.plot.pie(figsize=(10,6), ylabel = 'result', fontsize = 14, autopct='%1.2f%%', title = 'deposit', explode=[0,0.25])"
   ]
  },
  {
   "cell_type": "code",
   "execution_count": 8,
   "metadata": {},
   "outputs": [
    {
     "name": "stdout",
     "output_type": "stream",
     "text": [
      "<class 'pandas.core.frame.DataFrame'>\n",
      "RangeIndex: 11162 entries, 0 to 11161\n",
      "Data columns (total 17 columns):\n",
      " #   Column     Non-Null Count  Dtype \n",
      "---  ------     --------------  ----- \n",
      " 0   age        11162 non-null  int64 \n",
      " 1   job        11162 non-null  object\n",
      " 2   marital    11162 non-null  object\n",
      " 3   education  11162 non-null  object\n",
      " 4   default    11162 non-null  object\n",
      " 5   balance    11162 non-null  int64 \n",
      " 6   housing    11162 non-null  object\n",
      " 7   loan       11162 non-null  object\n",
      " 8   contact    11162 non-null  object\n",
      " 9   day        11162 non-null  int64 \n",
      " 10  month      11162 non-null  object\n",
      " 11  duration   11162 non-null  int64 \n",
      " 12  campaign   11162 non-null  int64 \n",
      " 13  pdays      11162 non-null  int64 \n",
      " 14  previous   11162 non-null  int64 \n",
      " 15  poutcome   11162 non-null  object\n",
      " 16  y          11162 non-null  object\n",
      "dtypes: int64(7), object(10)\n",
      "memory usage: 1.4+ MB\n"
     ]
    }
   ],
   "source": [
    "new_df.info()"
   ]
  },
  {
   "cell_type": "markdown",
   "metadata": {},
   "source": [
    "# attributes: categorical and numerical overview"
   ]
  },
  {
   "cell_type": "code",
   "execution_count": 9,
   "metadata": {},
   "outputs": [
    {
     "data": {
      "image/png": "[encoded data removed]",
      "text/plain": [
       "<Figure size 1440x1440 with 9 Axes>"
      ]
     },
     "metadata": {
      "needs_background": "light"
     },
     "output_type": "display_data"
    }
   ],
   "source": [
    "# categorical attributes\n",
    "categories = ['job', 'marital','education', 'default', 'housing', 'loan', 'contact', 'month', 'poutcome']\n",
    "fig, ax = plt.subplots(figsize = (20,20), ncols=3, nrows = 3)\n",
    "count =0\n",
    "for col in categories:\n",
    "    g=sns.countplot(x = col, data = new_df, hue = 'y', order = bank_yes[col].value_counts().index, ax = ax[count//3, count%3])\n",
    "    g.set_title(col+' & deposit')\n",
    "    g.set_xlabel(None,fontsize = 9)\n",
    "    if col == 'job':\n",
    "        plt.setp(g.get_xticklabels(), rotation=40)\n",
    "    count+=1"
   ]
  },
  {
   "cell_type": "markdown",
   "metadata": {},
   "source": [
    "> here we see job, education, contact and poutcome have unkown/missing values\n",
    "> with job, education, contact we impute missing values by apply most-frequent strategy\n",
    "> with poutcome since unkown values appears more than 80%, we consider dropping it\n",
    "> other categorical attribute will be convert into numerical by number 1, 2, 3, ..."
   ]
  },
  {
   "cell_type": "code",
   "execution_count": 10,
   "metadata": {},
   "outputs": [
    {
     "data": {
      "text/plain": [
       "array([41, 39, 62, ..., 29, 42, 31], dtype=int64)"
      ]
     },
     "execution_count": 10,
     "metadata": {},
     "output_type": "execute_result"
    }
   ],
   "source": [
    "new_df.age.to_numpy()"
   ]
  },
  {
   "cell_type": "code",
   "execution_count": 43,
   "metadata": {
    "scrolled": true
   },
   "outputs": [
    {
     "name": "stdout",
     "output_type": "stream",
     "text": [
      "age:  122\n",
      "balance:  195\n",
      "day:  0\n",
      "duration:  200\n",
      "previous:  72\n",
      "pdays:  174\n",
      "campaign:  213\n"
     ]
    },
    {
     "data": {
      "text/plain": [
       "472"
      ]
     },
     "execution_count": 43,
     "metadata": {},
     "output_type": "execute_result"
    }
   ],
   "source": [
    "numerical = ['age', 'balance', 'day', 'duration', 'previous', 'pdays', 'campaign']\n",
    "outlier = {}\n",
    "for col in numerical:\n",
    "    outlier[col] = []\n",
    "    data = new_df[col].to_numpy()\n",
    "    mean = new_df[col].mean()\n",
    "    std = new_df[col].std()\n",
    "    count_ouliers = 0\n",
    "    for i in range(len(data)):\n",
    "        z = (data[i]-mean)/std\n",
    "        if z >3 or z<-3:\n",
    "            count_ouliers+=1\n",
    "            outlier[col].append(i)\n",
    "    print(col+': ', count_ouliers)\n",
    "outlier_age = outlier['age']\n",
    "outlier_balance = outlier['balance']\n",
    "outlier_duration = outlier['duration']\n",
    "outlier_previous = outlier['previous']\n",
    "outlier_campaign = outlier['campaign']\n",
    "a=list(set(outlier_balance+outlier_campaign+outlier_previous))\n",
    "len(a)"
   ]
  },
  {
   "cell_type": "code",
   "execution_count": 44,
   "metadata": {},
   "outputs": [
    {
     "name": "stdout",
     "output_type": "stream",
     "text": [
      "count    11162.000000\n",
      "mean        41.219674\n",
      "std         11.881276\n",
      "min         18.000000\n",
      "25%         32.000000\n",
      "50%         39.000000\n",
      "75%         49.000000\n",
      "max         95.000000\n",
      "Name: age, dtype: float64 \n",
      "\n",
      "count    11162.000000\n",
      "mean      1513.864361\n",
      "std       3092.950161\n",
      "min      -3058.000000\n",
      "25%        117.000000\n",
      "50%        546.500000\n",
      "75%       1707.750000\n",
      "max      81204.000000\n",
      "Name: balance, dtype: float64 \n",
      "\n",
      "count    11162.000000\n",
      "mean        15.461476\n",
      "std          8.425059\n",
      "min          1.000000\n",
      "25%          8.000000\n",
      "50%         15.000000\n",
      "75%         21.000000\n",
      "max         31.000000\n",
      "Name: day, dtype: float64 \n",
      "\n",
      "count    11162.000000\n",
      "mean       369.722810\n",
      "std        347.626174\n",
      "min          0.000000\n",
      "25%        138.000000\n",
      "50%        252.000000\n",
      "75%        489.000000\n",
      "max       3881.000000\n",
      "Name: duration, dtype: float64 \n",
      "\n",
      "count    11162.000000\n",
      "mean         0.851371\n",
      "std          3.442755\n",
      "min          0.000000\n",
      "25%          0.000000\n",
      "50%          0.000000\n",
      "75%          1.000000\n",
      "max        275.000000\n",
      "Name: previous, dtype: float64 \n",
      "\n",
      "count    11162.000000\n",
      "mean        51.523652\n",
      "std        108.476909\n",
      "min         -1.000000\n",
      "25%         -1.000000\n",
      "50%         -1.000000\n",
      "75%         27.750000\n",
      "max        854.000000\n",
      "Name: pdays, dtype: float64 \n",
      "\n",
      "count    11162.000000\n",
      "mean         2.511109\n",
      "std          2.764688\n",
      "min          1.000000\n",
      "25%          1.000000\n",
      "50%          2.000000\n",
      "75%          3.000000\n",
      "max         50.000000\n",
      "Name: campaign, dtype: float64 \n",
      "\n"
     ]
    },
    {
     "data": {
      "image/png": "[encoded data removed]",
      "text/plain": [
       "<Figure size 1008x720 with 9 Axes>"
      ]
     },
     "metadata": {
      "needs_background": "light"
     },
     "output_type": "display_data"
    }
   ],
   "source": [
    "# numerical attributes\n",
    "for col in numerical:\n",
    "    print(new_df[col].describe(),\"\\n\")\n",
    "new_df.drop(columns='y').hist(bins = 20, figsize=(14,10))\n",
    "plt.show()"
   ]
  },
  {
   "cell_type": "code",
   "execution_count": 45,
   "metadata": {},
   "outputs": [
    {
     "data": {
      "text/plain": [
       "<AxesSubplot:>"
      ]
     },
     "execution_count": 45,
     "metadata": {},
     "output_type": "execute_result"
    },
    {
     "data": {
      "image/png": "[encoded data removed]",
      "text/plain": [
       "<Figure size 1080x1080 with 2 Axes>"
      ]
     },
     "metadata": {
      "needs_background": "light"
     },
     "output_type": "display_data"
    }
   ],
   "source": [
    "def tran_y(x):\n",
    "    if x == 'yes':\n",
    "        return 1\n",
    "    if x == 'no':\n",
    "        return 0\n",
    "    else:\n",
    "        return x\n",
    "new_df.y = new_df.y.apply(tran_y)\n",
    "plt.subplots(figsize = (15,15))\n",
    "sns.heatmap(data = new_df.corr(), annot=True)"
   ]
  },
  {
   "cell_type": "markdown",
   "metadata": {},
   "source": [
    ">pdays and poutcome do not correlate to the outcome much so we can drop those attributes"
   ]
  },
  {
   "cell_type": "markdown",
   "metadata": {},
   "source": [
    "# imputing missing values"
   ]
  },
  {
   "cell_type": "code",
   "execution_count": 14,
   "metadata": {},
   "outputs": [],
   "source": [
    "from sklearn.impute import SimpleImputer\n",
    "imputer_mode = SimpleImputer(missing_values= 'unknown', strategy= 'most_frequent')"
   ]
  },
  {
   "cell_type": "markdown",
   "metadata": {},
   "source": [
    "# categorical data transformation"
   ]
  },
  {
   "cell_type": "code",
   "execution_count": 15,
   "metadata": {},
   "outputs": [],
   "source": [
    "def tran_job(x):\n",
    "  if x == 'housemaid':\n",
    "    return 1\n",
    "  if x == 'entrepreneur':\n",
    "    return 2\n",
    "  if x == 'self-employed':\n",
    "    return 3\n",
    "  if x == 'unemployed':\n",
    "    return 4\n",
    "  if x == 'student':\n",
    "    return 5\n",
    "  if x == 'services':\n",
    "    return 6\n",
    "  if x == 'retired':\n",
    "    return 7\n",
    "  if x == 'admin.':\n",
    "    return 8\n",
    "  if x == 'blue-collar':\n",
    "    return 9\n",
    "  if x == 'technician':\n",
    "    return 10\n",
    "  if x == 'management':\n",
    "    return 11\n",
    "  else:\n",
    "    return x\n",
    "def tran_marital(x):\n",
    "  if x == 'married':\n",
    "    return 3\n",
    "  if x == 'single':\n",
    "    return 2\n",
    "  if x == 'divorced':\n",
    "    return 1\n",
    "  else:\n",
    "    return x\n",
    "def tran_education(x):\n",
    "  if x == 'secondary':\n",
    "    return 3\n",
    "  if x == 'tertiary':\n",
    "    return 2\n",
    "  if x == 'primary':\n",
    "    return 1\n",
    "  else:\n",
    "    return x\n",
    "def tran_binary_no(x):\n",
    "  if x == 'no':\n",
    "    return 1\n",
    "  if x =='yes':\n",
    "    return 0\n",
    "  else:\n",
    "    return x\n",
    "def tran_contact(x):\n",
    "    if x == 'cellular':\n",
    "        return 1\n",
    "    if x == 'telephone':\n",
    "        return 0\n",
    "    else:\n",
    "        return x\n",
    "def tran_month(x):\n",
    "    if x == 'dec':\n",
    "        return 1\n",
    "    if x == 'jan':\n",
    "        return 2\n",
    "    if x == 'mar':\n",
    "        return 3\n",
    "    if x == 'sep':\n",
    "        return 4\n",
    "    if x == 'oct':\n",
    "        return 5\n",
    "    if x == 'nov':\n",
    "        return 6\n",
    "    if x == 'feb':\n",
    "        return 7\n",
    "    if x == 'jun':\n",
    "        return 8\n",
    "    if x == 'apr':\n",
    "        return 9\n",
    "    if x == 'jul':\n",
    "        return 10\n",
    "    if x == 'aug':\n",
    "        return 11\n",
    "    if x == 'may':\n",
    "        return 12\n",
    "def tran_y(x):\n",
    "    if x == 'yes':\n",
    "        return 1\n",
    "    if x == 'no':\n",
    "        return 0\n",
    "    else:\n",
    "        return x"
   ]
  },
  {
   "cell_type": "markdown",
   "metadata": {},
   "source": [
    "# group age, duration and remove outliers from balance, campaign, previous"
   ]
  },
  {
   "cell_type": "code",
   "execution_count": 16,
   "metadata": {},
   "outputs": [],
   "source": [
    "def duration_group( x):\n",
    "    if x <=102:\n",
    "        return 1\n",
    "    elif x<=180:\n",
    "        return 2\n",
    "    elif x <=319:\n",
    "        return 3\n",
    "    elif x<=644.5:\n",
    "        return 4\n",
    "    else:\n",
    "        return 5\n",
    "def age_group(x):\n",
    "    if x <=32:\n",
    "        return 1\n",
    "    elif x <= 47:\n",
    "        return 2\n",
    "    elif x <= 70:\n",
    "        return 3\n",
    "    else:\n",
    "        return 4\n",
    "def remove_outliers(data):\n",
    "    new = data.copy()\n",
    "    numerical = ['balance', 'previous', 'campaign']\n",
    "    outlier = {}\n",
    "    for col in numerical:\n",
    "        outlier[col] = []\n",
    "        data = new_df[col].to_numpy()\n",
    "        mean = new_df[col].mean()\n",
    "        std = new_df[col].std()\n",
    "        count_ouliers = 0\n",
    "        for i in range(len(data)):\n",
    "            z = (data[i]-mean)/std\n",
    "            if z >3 or z<-3:\n",
    "                count_ouliers+=1\n",
    "                outlier[col].append(i)\n",
    "    o = list(set(outlier['balance']+outlier['previous']+outlier['campaign']))\n",
    "    new.drop(new.index[o], inplace = True)\n",
    "    return new\n",
    "    "
   ]
  },
  {
   "cell_type": "markdown",
   "metadata": {},
   "source": [
    "# transform the dataset and normalize data"
   ]
  },
  {
   "cell_type": "code",
   "execution_count": 17,
   "metadata": {},
   "outputs": [],
   "source": [
    "from sklearn.preprocessing import StandardScaler\n",
    "def preprocessing(dataframe):\n",
    "    copy_df = dataframe.copy()\n",
    "    columns = copy_df.columns\n",
    "    imputer_mode = SimpleImputer(missing_values= 'unknown', strategy= 'most_frequent')\n",
    "    copy_df = imputer_mode.fit_transform(copy_df)\n",
    "    copy_df = pd.DataFrame(copy_df, columns = columns)\n",
    "    copy_df.job = copy_df.job.apply(tran_job)\n",
    "    copy_df.marital = copy_df.marital.apply(tran_marital)\n",
    "    copy_df.education = copy_df.education.apply(tran_education)\n",
    "    copy_df.default = copy_df.default.apply(tran_binary_no)\n",
    "    copy_df.housing = copy_df.housing.apply(tran_binary_no)\n",
    "    copy_df.loan = copy_df.loan.apply(tran_binary_no)\n",
    "    copy_df.contact = copy_df.contact.apply(tran_contact)\n",
    "    copy_df.month = copy_df.month.apply(tran_month)\n",
    "    copy_df = copy_df.drop(columns = ['poutcome', 'pdays'])\n",
    "    copy_df.age = copy_df.age.apply(age_group)\n",
    "    copy_df.duration = copy_df.duration.apply(duration_group)\n",
    "    copy_df.y = copy_df.y.apply(tran_y)\n",
    "    copy_df = remove_outliers(copy_df).reset_index(drop = 1)\n",
    "    \n",
    "    feature = []\n",
    "    for i in columns:\n",
    "        if i not in ['y', 'poutcome', 'pdays']:\n",
    "            feature.append(i)\n",
    "    scaler = StandardScaler()\n",
    "    X = scaler.fit_transform(copy_df.drop(columns = 'y'))\n",
    "    y = copy_df.y\n",
    "    X = pd.DataFrame(X, columns = feature);\n",
    "    copy_df = pd.concat([X, y], axis= 1)\n",
    "    \n",
    "    return copy_df"
   ]
  },
  {
   "cell_type": "code",
   "execution_count": 57,
   "metadata": {
    "scrolled": true
   },
   "outputs": [
    {
     "data": {
      "text/html": [
       "<div>\n",
       "<style scoped>\n",
       "    .dataframe tbody tr th:only-of-type {\n",
       "        vertical-align: middle;\n",
       "    }\n",
       "\n",
       "    .dataframe tbody tr th {\n",
       "        vertical-align: top;\n",
       "    }\n",
       "\n",
       "    .dataframe thead th {\n",
       "        text-align: right;\n",
       "    }\n",
       "</style>\n",
       "<table border=\"1\" class=\"dataframe\">\n",
       "  <thead>\n",
       "    <tr style=\"text-align: right;\">\n",
       "      <th></th>\n",
       "      <th>age</th>\n",
       "      <th>job</th>\n",
       "      <th>marital</th>\n",
       "      <th>education</th>\n",
       "      <th>default</th>\n",
       "      <th>balance</th>\n",
       "      <th>housing</th>\n",
       "      <th>loan</th>\n",
       "      <th>contact</th>\n",
       "      <th>day</th>\n",
       "      <th>month</th>\n",
       "      <th>duration</th>\n",
       "      <th>campaign</th>\n",
       "      <th>previous</th>\n",
       "      <th>y</th>\n",
       "    </tr>\n",
       "  </thead>\n",
       "  <tbody>\n",
       "    <tr>\n",
       "      <th>0</th>\n",
       "      <td>-1.318306</td>\n",
       "      <td>0.666776</td>\n",
       "      <td>0.783247</td>\n",
       "      <td>0.838327</td>\n",
       "      <td>0.124435</td>\n",
       "      <td>-0.177005</td>\n",
       "      <td>0.953735</td>\n",
       "      <td>0.392021</td>\n",
       "      <td>0.265314</td>\n",
       "      <td>-1.590664</td>\n",
       "      <td>-0.335031</td>\n",
       "      <td>0.711884</td>\n",
       "      <td>-0.742383</td>\n",
       "      <td>-0.435995</td>\n",
       "      <td>1</td>\n",
       "    </tr>\n",
       "    <tr>\n",
       "      <th>1</th>\n",
       "      <td>-0.044563</td>\n",
       "      <td>0.295264</td>\n",
       "      <td>0.783247</td>\n",
       "      <td>0.838327</td>\n",
       "      <td>0.124435</td>\n",
       "      <td>-0.716348</td>\n",
       "      <td>-1.048509</td>\n",
       "      <td>0.392021</td>\n",
       "      <td>0.265314</td>\n",
       "      <td>-0.397998</td>\n",
       "      <td>1.048047</td>\n",
       "      <td>-0.813786</td>\n",
       "      <td>1.070334</td>\n",
       "      <td>-0.435995</td>\n",
       "      <td>0</td>\n",
       "    </tr>\n",
       "    <tr>\n",
       "      <th>2</th>\n",
       "      <td>-0.044563</td>\n",
       "      <td>0.666776</td>\n",
       "      <td>0.783247</td>\n",
       "      <td>0.838327</td>\n",
       "      <td>0.124435</td>\n",
       "      <td>-0.334176</td>\n",
       "      <td>0.953735</td>\n",
       "      <td>0.392021</td>\n",
       "      <td>0.265314</td>\n",
       "      <td>-0.875065</td>\n",
       "      <td>0.702278</td>\n",
       "      <td>-0.050951</td>\n",
       "      <td>2.278813</td>\n",
       "      <td>-0.435995</td>\n",
       "      <td>0</td>\n",
       "    </tr>\n",
       "    <tr>\n",
       "      <th>3</th>\n",
       "      <td>1.229180</td>\n",
       "      <td>1.038289</td>\n",
       "      <td>0.783247</td>\n",
       "      <td>-1.954789</td>\n",
       "      <td>0.124435</td>\n",
       "      <td>0.122446</td>\n",
       "      <td>0.953735</td>\n",
       "      <td>0.392021</td>\n",
       "      <td>0.265314</td>\n",
       "      <td>1.510268</td>\n",
       "      <td>-2.409649</td>\n",
       "      <td>-1.576621</td>\n",
       "      <td>-0.742383</td>\n",
       "      <td>-0.435995</td>\n",
       "      <td>0</td>\n",
       "    </tr>\n",
       "    <tr>\n",
       "      <th>4</th>\n",
       "      <td>-1.318306</td>\n",
       "      <td>1.038289</td>\n",
       "      <td>-0.659612</td>\n",
       "      <td>-0.558231</td>\n",
       "      <td>0.124435</td>\n",
       "      <td>-0.668921</td>\n",
       "      <td>-1.048509</td>\n",
       "      <td>0.392021</td>\n",
       "      <td>0.265314</td>\n",
       "      <td>-0.994331</td>\n",
       "      <td>1.048047</td>\n",
       "      <td>-1.576621</td>\n",
       "      <td>-0.742383</td>\n",
       "      <td>-0.435995</td>\n",
       "      <td>0</td>\n",
       "    </tr>\n",
       "  </tbody>\n",
       "</table>\n",
       "</div>"
      ],
      "text/plain": [
       "        age       job   marital  education   default   balance   housing  \\\n",
       "0 -1.318306  0.666776  0.783247   0.838327  0.124435 -0.177005  0.953735   \n",
       "1 -0.044563  0.295264  0.783247   0.838327  0.124435 -0.716348 -1.048509   \n",
       "2 -0.044563  0.666776  0.783247   0.838327  0.124435 -0.334176  0.953735   \n",
       "3  1.229180  1.038289  0.783247  -1.954789  0.124435  0.122446  0.953735   \n",
       "4 -1.318306  1.038289 -0.659612  -0.558231  0.124435 -0.668921 -1.048509   \n",
       "\n",
       "       loan   contact       day     month  duration  campaign  previous  y  \n",
       "0  0.392021  0.265314 -1.590664 -0.335031  0.711884 -0.742383 -0.435995  1  \n",
       "1  0.392021  0.265314 -0.397998  1.048047 -0.813786  1.070334 -0.435995  0  \n",
       "2  0.392021  0.265314 -0.875065  0.702278 -0.050951  2.278813 -0.435995  0  \n",
       "3  0.392021  0.265314  1.510268 -2.409649 -1.576621 -0.742383 -0.435995  0  \n",
       "4  0.392021  0.265314 -0.994331  1.048047 -1.576621 -0.742383 -0.435995  0  "
      ]
     },
     "execution_count": 57,
     "metadata": {},
     "output_type": "execute_result"
    }
   ],
   "source": [
    "input_df = preprocessing(new_df)\n",
    "input_df.to_csv(r'C:\\Users\\chau\\encoded_data.csv', index = False, header=True)\n",
    "input_df.head()"
   ]
  },
  {
   "cell_type": "markdown",
   "metadata": {},
   "source": [
    "# spliting the dataset into train and test set in a stratified way to preserve the distribution of data"
   ]
  },
  {
   "cell_type": "code",
   "execution_count": 89,
   "metadata": {},
   "outputs": [],
   "source": [
    "from sklearn.model_selection import StratifiedShuffleSplit\n",
    "# Here we split the data into training and test sets and implement a stratified shuffle split.\n",
    "stratified = StratifiedShuffleSplit(n_splits=1, test_size=0.2, random_state=42)\n",
    "X = input_df.drop(columns='y')\n",
    "y = input_df.y\n",
    "\n",
    "for train_set, test_set in stratified.split(X, X[\"loan\"]):\n",
    "    stratified_train = X.loc[train_set]\n",
    "    stratified_test = X.loc[test_set]\n",
    "    \n",
    "stratified_train[\"loan\"].value_counts()/len(stratified_train)\n",
    "stratified_train.reset_index(drop = 1)\n",
    "y_train = y[stratified_train.index]\n",
    "y_test = y[stratified_test.index]"
   ]
  }
 ],
 "metadata": {
  "kernelspec": {
   "display_name": "Python 3",
   "language": "python",
   "name": "python3"
  },
  "language_info": {
   "codemirror_mode": {
    "name": "ipython",
    "version": 3
   },
   "file_extension": ".py",
   "mimetype": "text/x-python",
   "name": "python",
   "nbconvert_exporter": "python",
   "pygments_lexer": "ipython3",
   "version": "3.8.5"
  }
 },
 "nbformat": 4,
 "nbformat_minor": 4
}
