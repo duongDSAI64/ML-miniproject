{
 "cells": [
  {
   "cell_type": "code",
   "execution_count": 2,
   "metadata": {},
   "outputs": [],
   "source": [
    "import warnings\n",
    "warnings.filterwarnings(\"ignore\")"
   ]
  },
  {
   "cell_type": "code",
   "execution_count": 1,
   "metadata": {},
   "outputs": [
    {
     "data": {
      "text/html": [
       "<div>\n",
       "<style scoped>\n",
       "    .dataframe tbody tr th:only-of-type {\n",
       "        vertical-align: middle;\n",
       "    }\n",
       "\n",
       "    .dataframe tbody tr th {\n",
       "        vertical-align: top;\n",
       "    }\n",
       "\n",
       "    .dataframe thead th {\n",
       "        text-align: right;\n",
       "    }\n",
       "</style>\n",
       "<table border=\"1\" class=\"dataframe\">\n",
       "  <thead>\n",
       "    <tr style=\"text-align: right;\">\n",
       "      <th></th>\n",
       "      <th>age</th>\n",
       "      <th>job</th>\n",
       "      <th>marital</th>\n",
       "      <th>education</th>\n",
       "      <th>default</th>\n",
       "      <th>balance</th>\n",
       "      <th>housing</th>\n",
       "      <th>loan</th>\n",
       "      <th>contact</th>\n",
       "      <th>day</th>\n",
       "      <th>month</th>\n",
       "      <th>duration</th>\n",
       "      <th>campaign</th>\n",
       "      <th>previous</th>\n",
       "      <th>y</th>\n",
       "    </tr>\n",
       "  </thead>\n",
       "  <tbody>\n",
       "    <tr>\n",
       "      <th>0</th>\n",
       "      <td>-0.041801</td>\n",
       "      <td>0.293820</td>\n",
       "      <td>0.787602</td>\n",
       "      <td>0.829546</td>\n",
       "      <td>0.125138</td>\n",
       "      <td>-0.543157</td>\n",
       "      <td>-1.053651</td>\n",
       "      <td>0.39614</td>\n",
       "      <td>0.267505</td>\n",
       "      <td>0.309577</td>\n",
       "      <td>1.056282</td>\n",
       "      <td>0.713333</td>\n",
       "      <td>-0.743793</td>\n",
       "      <td>-0.451068</td>\n",
       "      <td>1</td>\n",
       "    </tr>\n",
       "    <tr>\n",
       "      <th>1</th>\n",
       "      <td>-0.041801</td>\n",
       "      <td>-0.078589</td>\n",
       "      <td>0.787602</td>\n",
       "      <td>0.829546</td>\n",
       "      <td>0.125138</td>\n",
       "      <td>-0.320728</td>\n",
       "      <td>-1.053651</td>\n",
       "      <td>0.39614</td>\n",
       "      <td>0.267505</td>\n",
       "      <td>0.429025</td>\n",
       "      <td>1.056282</td>\n",
       "      <td>0.713333</td>\n",
       "      <td>-0.743793</td>\n",
       "      <td>-0.451068</td>\n",
       "      <td>0</td>\n",
       "    </tr>\n",
       "    <tr>\n",
       "      <th>2</th>\n",
       "      <td>-0.041801</td>\n",
       "      <td>0.293820</td>\n",
       "      <td>-0.655721</td>\n",
       "      <td>-0.568280</td>\n",
       "      <td>0.125138</td>\n",
       "      <td>0.282929</td>\n",
       "      <td>0.949081</td>\n",
       "      <td>0.39614</td>\n",
       "      <td>-3.738249</td>\n",
       "      <td>0.667919</td>\n",
       "      <td>0.364740</td>\n",
       "      <td>-0.808483</td>\n",
       "      <td>-0.150823</td>\n",
       "      <td>-0.451068</td>\n",
       "      <td>0</td>\n",
       "    </tr>\n",
       "    <tr>\n",
       "      <th>3</th>\n",
       "      <td>-0.041801</td>\n",
       "      <td>0.666230</td>\n",
       "      <td>0.787602</td>\n",
       "      <td>-0.568280</td>\n",
       "      <td>0.125138</td>\n",
       "      <td>-0.321281</td>\n",
       "      <td>-1.053651</td>\n",
       "      <td>0.39614</td>\n",
       "      <td>0.267505</td>\n",
       "      <td>-1.004342</td>\n",
       "      <td>1.056282</td>\n",
       "      <td>-1.569391</td>\n",
       "      <td>-0.743793</td>\n",
       "      <td>-0.451068</td>\n",
       "      <td>0</td>\n",
       "    </tr>\n",
       "    <tr>\n",
       "      <th>4</th>\n",
       "      <td>1.235427</td>\n",
       "      <td>1.038639</td>\n",
       "      <td>0.787602</td>\n",
       "      <td>-0.568280</td>\n",
       "      <td>0.125138</td>\n",
       "      <td>-0.677611</td>\n",
       "      <td>-1.053651</td>\n",
       "      <td>0.39614</td>\n",
       "      <td>0.267505</td>\n",
       "      <td>0.309577</td>\n",
       "      <td>-1.018342</td>\n",
       "      <td>-0.047575</td>\n",
       "      <td>-0.743793</td>\n",
       "      <td>0.306108</td>\n",
       "      <td>0</td>\n",
       "    </tr>\n",
       "  </tbody>\n",
       "</table>\n",
       "</div>"
      ],
      "text/plain": [
       "        age       job   marital  education   default   balance   housing  \\\n",
       "0 -0.041801  0.293820  0.787602   0.829546  0.125138 -0.543157 -1.053651   \n",
       "1 -0.041801 -0.078589  0.787602   0.829546  0.125138 -0.320728 -1.053651   \n",
       "2 -0.041801  0.293820 -0.655721  -0.568280  0.125138  0.282929  0.949081   \n",
       "3 -0.041801  0.666230  0.787602  -0.568280  0.125138 -0.321281 -1.053651   \n",
       "4  1.235427  1.038639  0.787602  -0.568280  0.125138 -0.677611 -1.053651   \n",
       "\n",
       "      loan   contact       day     month  duration  campaign  previous  y  \n",
       "0  0.39614  0.267505  0.309577  1.056282  0.713333 -0.743793 -0.451068  1  \n",
       "1  0.39614  0.267505  0.429025  1.056282  0.713333 -0.743793 -0.451068  0  \n",
       "2  0.39614 -3.738249  0.667919  0.364740 -0.808483 -0.150823 -0.451068  0  \n",
       "3  0.39614  0.267505 -1.004342  1.056282 -1.569391 -0.743793 -0.451068  0  \n",
       "4  0.39614  0.267505  0.309577 -1.018342 -0.047575 -0.743793  0.306108  0  "
      ]
     },
     "execution_count": 1,
     "metadata": {},
     "output_type": "execute_result"
    }
   ],
   "source": [
    "import numpy as np\n",
    "import pandas as pd\n",
    "import matplotlib.pyplot as plt\n",
    "import seaborn as sns\n",
    "from sklearn.model_selection import train_test_split\n",
    "\n",
    "df = pd.read_csv(r'C:\\Users\\chau\\Desktop\\ML-miniproject\\data\\encoded_data.csv', encoding='Latin-1')\n",
    "df.head()"
   ]
  },
  {
   "cell_type": "code",
   "execution_count": 19,
   "metadata": {},
   "outputs": [],
   "source": [
    "X = df.drop(columns='y')\n",
    "y = df.y"
   ]
  },
  {
   "cell_type": "code",
   "execution_count": 6,
   "metadata": {},
   "outputs": [],
   "source": [
    "bank_full = pd.read_csv(r'C:\\Users\\chau\\Desktop\\ML-miniproject\\data\\bank-full-encoded.csv', encoding= 'Latin-1')\n",
    "X_imb = bank_full.drop(columns = 'y')\n",
    "y_imb = bank_full.y\n",
    "\n",
    "X_train_imb, X_test_imb, y_train_imb, y_test_imb = train_test_split(X_imb, y_imb, test_size = 0.2)"
   ]
  },
  {
   "cell_type": "code",
   "execution_count": 7,
   "metadata": {},
   "outputs": [],
   "source": [
    "train_set_imb = pd.concat([X_train_imb, y_train_imb], axis=1)\n",
    "test_set_imb = pd.concat([X_test_imb, y_test_imb], axis = 1)\n",
    "train_set_imb.to_csv(r'C:\\Users\\chau\\Desktop\\ML-miniproject\\data\\train_set_imb.csv', index = False, header = True)\n",
    "test_set_imb.to_csv(r'C:\\Users\\chau\\Desktop\\ML-miniproject\\data\\test_set_imb.csv', index = False, header = True)"
   ]
  },
  {
   "cell_type": "code",
   "execution_count": 20,
   "metadata": {},
   "outputs": [],
   "source": [
    "from sklearn.model_selection import StratifiedShuffleSplit\n",
    "# Here we split the data into training and test sets and implement a stratified shuffle split.\n",
    "stratified = StratifiedShuffleSplit(n_splits=1, test_size=0.2, random_state=42)\n",
    "X = df.drop(columns='y')\n",
    "y = df.y\n",
    "\n",
    "for train_set, test_set in stratified.split(X, X[\"loan\"]):\n",
    "    stratified_train = X.loc[train_set]\n",
    "    stratified_test = X.loc[test_set]\n",
    "    \n",
    "stratified_train[\"loan\"].value_counts()/len(stratified_train)\n",
    "stratified_train.reset_index(drop = 1)\n",
    "y_train = y[stratified_train.index]\n",
    "y_test = y[stratified_test.index]"
   ]
  },
  {
   "cell_type": "code",
   "execution_count": 23,
   "metadata": {},
   "outputs": [],
   "source": [
    "train_set = pd.concat([stratified_train, y_train], axis = 1)\n",
    "test_set = pd.concat([stratified_test, y_test], axis= 1)\n",
    "\n",
    "train_set.to_csv(r'C:\\Users\\chau\\Desktop\\ML-miniproject\\data\\train_set.csv', index = False, header=True)\n",
    "test_set.to_csv(r'C:\\Users\\chau\\Desktop\\ML-miniproject\\data\\test_set.csv', index = False, header=True)"
   ]
  },
  {
   "cell_type": "markdown",
   "metadata": {},
   "source": [
    "# 1. KNN model"
   ]
  },
  {
   "cell_type": "code",
   "execution_count": 9,
   "metadata": {
    "scrolled": false
   },
   "outputs": [
    {
     "data": {
      "image/png": "[encoded data removed]",
      "text/plain": [
       "<Figure size 720x360 with 1 Axes>"
      ]
     },
     "metadata": {
      "needs_background": "light"
     },
     "output_type": "display_data"
    }
   ],
   "source": [
    "from sklearn.neighbors import KNeighborsClassifier\n",
    "from sklearn.metrics import f1_score, accuracy_score\n",
    "from sklearn.model_selection import cross_val_score\n",
    "from sklearn.model_selection import StratifiedKFold\n",
    "val_accuracy = []\n",
    "val_f1 = []\n",
    "k_neighbors = []\n",
    "for k in range(1,30,2):\n",
    "    model = KNeighborsClassifier(n_neighbors=k, weights='uniform', p = 1)\n",
    "    kf = StratifiedKFold(n_splits=10, shuffle = True, random_state=1)\n",
    "    val_accuracy.append(cross_val_score(model, X, y, scoring= 'accuracy', cv = kf).mean())\n",
    "    val_f1.append(cross_val_score(model, X, y, scoring= 'f1_macro', cv = kf).mean())\n",
    "    k_neighbors.append(k)\n",
    "\n",
    "plt.subplots(figsize = (10,5))\n",
    "plt.plot(k_neighbors, val_accuracy,'-ok', label = 'validation_accuracy', color = 'orange')\n",
    "plt.plot(k_neighbors, val_f1,'-ok', label = 'validation_f1', color = 'red')\n",
    "plt.title('Accuracy')\n",
    "plt.xlabel(\"k_neighbors\")\n",
    "plt.ylabel(\"values\")\n",
    "plt.xticks(k_neighbors)\n",
    "plt.legend()\n",
    "plt.show()"
   ]
  },
  {
   "cell_type": "code",
   "execution_count": 10,
   "metadata": {},
   "outputs": [],
   "source": [
    "import pickle\n",
    "model = KNeighborsClassifier(n_neighbors= 25, weights= 'uniform', p = 1)\n",
    "model.fit(stratified_train, y_train)\n",
    "filename = r'C:\\Users\\chau\\Desktop\\ML-miniproject\\models\\knn_model.sav'\n",
    "pickle.dump(model, open(filename,'wb'))"
   ]
  },
  {
   "cell_type": "code",
   "execution_count": 11,
   "metadata": {},
   "outputs": [],
   "source": [
    "model_imb = KNeighborsClassifier(n_neighbors=25, weights='uniform', p = 1)\n",
    "model_imb.fit(X_train_imb, y_train_imb)\n",
    "pickle.dump(model_imb, open(r'C:\\Users\\chau\\Desktop\\ML-miniproject\\models\\knn_model_imb.sav', 'wb'))"
   ]
  },
  {
   "cell_type": "markdown",
   "metadata": {},
   "source": [
    "# 2. Decision tree model"
   ]
  },
  {
   "cell_type": "code",
   "execution_count": 12,
   "metadata": {},
   "outputs": [
    {
     "data": {
      "image/png": "[encoded data removed]",
      "text/plain": [
       "<Figure size 720x360 with 1 Axes>"
      ]
     },
     "metadata": {
      "needs_background": "light"
     },
     "output_type": "display_data"
    }
   ],
   "source": [
    "from sklearn.tree import DecisionTreeClassifier\n",
    "val_accuracy = []\n",
    "val_f1 = []\n",
    "tree_depths = []\n",
    "\n",
    "for depth in range(1,20):\n",
    "    tree_clf = DecisionTreeClassifier(max_depth=depth)\n",
    "    kf = StratifiedKFold(n_splits=10, shuffle = True, random_state=1)\n",
    "    val_accuracy.append(cross_val_score(tree_clf, X, y, scoring= 'accuracy', cv = kf).mean())\n",
    "    val_f1.append(cross_val_score(tree_clf, stratified_train, y_train, scoring= 'f1_macro', cv = kf).mean())\n",
    "    tree_depths.append(depth)\n",
    "    \n",
    "\n",
    "plt.subplots(figsize = (10,5))\n",
    "plt.plot(tree_depths, val_accuracy,'-ok', label = 'validation_accuracy', color = 'orange')\n",
    "plt.plot(tree_depths, val_f1,'-ok', label = 'validation_f1', color = 'red')\n",
    "plt.title('Accuracy')\n",
    "plt.xlabel(\"tree_depth\")\n",
    "plt.ylabel(\"values\")\n",
    "plt.xticks(k_neighbors)\n",
    "plt.legend()\n",
    "plt.show()"
   ]
  },
  {
   "cell_type": "code",
   "execution_count": 13,
   "metadata": {},
   "outputs": [],
   "source": [
    "#from the graph above we see max_depth = 7 produces the best result\n",
    "\n",
    "import pickle\n",
    "tree_clf = DecisionTreeClassifier(max_depth=7)\n",
    "tree_clf.fit(stratified_train, y_train)\n",
    "filename = r'C:\\Users\\chau\\Desktop\\ML-miniproject\\models\\dt_model.sav'\n",
    "pickle.dump(tree_clf, open(filename,'wb'))"
   ]
  },
  {
   "cell_type": "code",
   "execution_count": 14,
   "metadata": {},
   "outputs": [],
   "source": [
    "tree_clf_imb = DecisionTreeClassifier(max_depth=7)\n",
    "tree_clf_imb.fit(X_train_imb, y_train_imb)\n",
    "pickle.dump(tree_clf_imb, open(r'C:\\Users\\chau\\Desktop\\ML-miniproject\\models\\dt_model_imb.sav','wb'))"
   ]
  }
 ],
 "metadata": {
  "kernelspec": {
   "display_name": "Python 3",
   "language": "python",
   "name": "python3"
  },
  "language_info": {
   "codemirror_mode": {
    "name": "ipython",
    "version": 3
   },
   "file_extension": ".py",
   "mimetype": "text/x-python",
   "name": "python",
   "nbconvert_exporter": "python",
   "pygments_lexer": "ipython3",
   "version": "3.8.5"
  }
 },
 "nbformat": 4,
 "nbformat_minor": 4
}
